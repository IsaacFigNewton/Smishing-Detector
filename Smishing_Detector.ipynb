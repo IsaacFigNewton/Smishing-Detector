{
  "cells": [
    {
      "cell_type": "markdown",
      "metadata": {
        "id": "view-in-github",
        "colab_type": "text"
      },
      "source": [
        "<a href=\"https://colab.research.google.com/github/IsaacFigNewton/Smishing-Detector/blob/sklearn-approach/Smishing_Detector.ipynb\" target=\"_parent\"><img src=\"https://colab.research.google.com/assets/colab-badge.svg\" alt=\"Open In Colab\"/></a>"
      ]
    },
    {
      "cell_type": "markdown",
      "metadata": {
        "id": "wKf0uB8XNjPx"
      },
      "source": [
        "# TODO\n",
        "\n",
        "<ol>\n",
        "  <li>Blah</li>\n",
        "</ol>"
      ]
    },
    {
      "cell_type": "markdown",
      "metadata": {
        "id": "KIzPua5nAUIv"
      },
      "source": [
        "# Import and config"
      ]
    },
    {
      "cell_type": "markdown",
      "metadata": {
        "id": "_QKA10jH69nz"
      },
      "source": [
        "## Install packages"
      ]
    },
    {
      "cell_type": "markdown",
      "source": [
        "### Autocorrecters"
      ],
      "metadata": {
        "id": "6amS9QrQIQve"
      }
    },
    {
      "cell_type": "code",
      "source": [
        "# can't seem to get this to work, keep getting UnpicklingError: invalid load key, '<'. when loading pretrained model\n",
        "# !pip install neuspell"
      ],
      "metadata": {
        "id": "lmXg01XEgsCc"
      },
      "execution_count": 1,
      "outputs": []
    },
    {
      "cell_type": "code",
      "source": [
        "# import neuspell\n",
        "# # Sample text to correct\n",
        "# sample_text = \"Iate taht appl\"\n",
        "# print(sample_text)\n",
        "# print()\n",
        "\n",
        "# # BERT correction\n",
        "# def bert_correct(text):\n",
        "#     checker = neuspell.BertChecker()\n",
        "#     checker.from_pretrained()\n",
        "#     return checker.correct(text)\n",
        "\n",
        "# bert_corrected = bert_correct(sample_text)\n",
        "\n",
        "# print(f\"BERT corrected: {bert_corrected}\")"
      ],
      "metadata": {
        "id": "gTtPqQoOki9M"
      },
      "execution_count": 2,
      "outputs": []
    },
    {
      "cell_type": "code",
      "execution_count": 3,
      "metadata": {
        "colab": {
          "base_uri": "https://localhost:8080/"
        },
        "id": "rDx3N-1geXOR",
        "outputId": "66ca8dca-fe2d-4c57-d25d-ed4bd170045a"
      },
      "outputs": [
        {
          "output_type": "stream",
          "name": "stdout",
          "text": [
            "Requirement already satisfied: autocorrect in /usr/local/lib/python3.10/dist-packages (2.6.1)\n"
          ]
        }
      ],
      "source": [
        "# # https://github.com/filyp/autocorrect\n",
        "# !pip install autocorrect"
      ]
    },
    {
      "cell_type": "code",
      "source": [
        "# #https://github.com/keredson/wordninja\n",
        "# !pip install wordninja"
      ],
      "metadata": {
        "colab": {
          "base_uri": "https://localhost:8080/"
        },
        "id": "6idSgyqpQo6e",
        "outputId": "033c77be-7ab3-49ee-9843-d5d6bbe73f71"
      },
      "execution_count": 4,
      "outputs": [
        {
          "output_type": "stream",
          "name": "stdout",
          "text": [
            "Requirement already satisfied: wordninja in /usr/local/lib/python3.10/dist-packages (2.0.0)\n"
          ]
        }
      ]
    },
    {
      "cell_type": "markdown",
      "source": [
        "### Text Embedders"
      ],
      "metadata": {
        "id": "sPa28KH6Ia0Y"
      }
    },
    {
      "cell_type": "code",
      "execution_count": 5,
      "metadata": {
        "colab": {
          "base_uri": "https://localhost:8080/"
        },
        "id": "5AKak-jS1CIY",
        "outputId": "0fe7890e-9d13-4749-93a8-c8f95c9343d5"
      },
      "outputs": [
        {
          "output_type": "stream",
          "name": "stdout",
          "text": [
            "Requirement already satisfied: sentence-transformers in /usr/local/lib/python3.10/dist-packages (3.0.1)\n",
            "Requirement already satisfied: transformers<5.0.0,>=4.34.0 in /usr/local/lib/python3.10/dist-packages (from sentence-transformers) (4.41.2)\n",
            "Requirement already satisfied: tqdm in /usr/local/lib/python3.10/dist-packages (from sentence-transformers) (4.66.4)\n",
            "Requirement already satisfied: torch>=1.11.0 in /usr/local/lib/python3.10/dist-packages (from sentence-transformers) (2.3.0+cu121)\n",
            "Requirement already satisfied: numpy in /usr/local/lib/python3.10/dist-packages (from sentence-transformers) (1.25.2)\n",
            "Requirement already satisfied: scikit-learn in /usr/local/lib/python3.10/dist-packages (from sentence-transformers) (1.2.2)\n",
            "Requirement already satisfied: scipy in /usr/local/lib/python3.10/dist-packages (from sentence-transformers) (1.11.4)\n",
            "Requirement already satisfied: huggingface-hub>=0.15.1 in /usr/local/lib/python3.10/dist-packages (from sentence-transformers) (0.23.3)\n",
            "Requirement already satisfied: Pillow in /usr/local/lib/python3.10/dist-packages (from sentence-transformers) (9.4.0)\n",
            "Requirement already satisfied: filelock in /usr/local/lib/python3.10/dist-packages (from huggingface-hub>=0.15.1->sentence-transformers) (3.14.0)\n",
            "Requirement already satisfied: fsspec>=2023.5.0 in /usr/local/lib/python3.10/dist-packages (from huggingface-hub>=0.15.1->sentence-transformers) (2023.6.0)\n",
            "Requirement already satisfied: packaging>=20.9 in /usr/local/lib/python3.10/dist-packages (from huggingface-hub>=0.15.1->sentence-transformers) (24.1)\n",
            "Requirement already satisfied: pyyaml>=5.1 in /usr/local/lib/python3.10/dist-packages (from huggingface-hub>=0.15.1->sentence-transformers) (6.0.1)\n",
            "Requirement already satisfied: requests in /usr/local/lib/python3.10/dist-packages (from huggingface-hub>=0.15.1->sentence-transformers) (2.31.0)\n",
            "Requirement already satisfied: typing-extensions>=3.7.4.3 in /usr/local/lib/python3.10/dist-packages (from huggingface-hub>=0.15.1->sentence-transformers) (4.12.2)\n",
            "Requirement already satisfied: sympy in /usr/local/lib/python3.10/dist-packages (from torch>=1.11.0->sentence-transformers) (1.12.1)\n",
            "Requirement already satisfied: networkx in /usr/local/lib/python3.10/dist-packages (from torch>=1.11.0->sentence-transformers) (3.3)\n",
            "Requirement already satisfied: jinja2 in /usr/local/lib/python3.10/dist-packages (from torch>=1.11.0->sentence-transformers) (3.1.4)\n",
            "Requirement already satisfied: nvidia-cuda-nvrtc-cu12==12.1.105 in /usr/local/lib/python3.10/dist-packages (from torch>=1.11.0->sentence-transformers) (12.1.105)\n",
            "Requirement already satisfied: nvidia-cuda-runtime-cu12==12.1.105 in /usr/local/lib/python3.10/dist-packages (from torch>=1.11.0->sentence-transformers) (12.1.105)\n",
            "Requirement already satisfied: nvidia-cuda-cupti-cu12==12.1.105 in /usr/local/lib/python3.10/dist-packages (from torch>=1.11.0->sentence-transformers) (12.1.105)\n",
            "Requirement already satisfied: nvidia-cudnn-cu12==8.9.2.26 in /usr/local/lib/python3.10/dist-packages (from torch>=1.11.0->sentence-transformers) (8.9.2.26)\n",
            "Requirement already satisfied: nvidia-cublas-cu12==12.1.3.1 in /usr/local/lib/python3.10/dist-packages (from torch>=1.11.0->sentence-transformers) (12.1.3.1)\n",
            "Requirement already satisfied: nvidia-cufft-cu12==11.0.2.54 in /usr/local/lib/python3.10/dist-packages (from torch>=1.11.0->sentence-transformers) (11.0.2.54)\n",
            "Requirement already satisfied: nvidia-curand-cu12==10.3.2.106 in /usr/local/lib/python3.10/dist-packages (from torch>=1.11.0->sentence-transformers) (10.3.2.106)\n",
            "Requirement already satisfied: nvidia-cusolver-cu12==11.4.5.107 in /usr/local/lib/python3.10/dist-packages (from torch>=1.11.0->sentence-transformers) (11.4.5.107)\n",
            "Requirement already satisfied: nvidia-cusparse-cu12==12.1.0.106 in /usr/local/lib/python3.10/dist-packages (from torch>=1.11.0->sentence-transformers) (12.1.0.106)\n",
            "Requirement already satisfied: nvidia-nccl-cu12==2.20.5 in /usr/local/lib/python3.10/dist-packages (from torch>=1.11.0->sentence-transformers) (2.20.5)\n",
            "Requirement already satisfied: nvidia-nvtx-cu12==12.1.105 in /usr/local/lib/python3.10/dist-packages (from torch>=1.11.0->sentence-transformers) (12.1.105)\n",
            "Requirement already satisfied: triton==2.3.0 in /usr/local/lib/python3.10/dist-packages (from torch>=1.11.0->sentence-transformers) (2.3.0)\n",
            "Requirement already satisfied: nvidia-nvjitlink-cu12 in /usr/local/lib/python3.10/dist-packages (from nvidia-cusolver-cu12==11.4.5.107->torch>=1.11.0->sentence-transformers) (12.5.40)\n",
            "Requirement already satisfied: regex!=2019.12.17 in /usr/local/lib/python3.10/dist-packages (from transformers<5.0.0,>=4.34.0->sentence-transformers) (2024.5.15)\n",
            "Requirement already satisfied: tokenizers<0.20,>=0.19 in /usr/local/lib/python3.10/dist-packages (from transformers<5.0.0,>=4.34.0->sentence-transformers) (0.19.1)\n",
            "Requirement already satisfied: safetensors>=0.4.1 in /usr/local/lib/python3.10/dist-packages (from transformers<5.0.0,>=4.34.0->sentence-transformers) (0.4.3)\n",
            "Requirement already satisfied: joblib>=1.1.1 in /usr/local/lib/python3.10/dist-packages (from scikit-learn->sentence-transformers) (1.4.2)\n",
            "Requirement already satisfied: threadpoolctl>=2.0.0 in /usr/local/lib/python3.10/dist-packages (from scikit-learn->sentence-transformers) (3.5.0)\n",
            "Requirement already satisfied: MarkupSafe>=2.0 in /usr/local/lib/python3.10/dist-packages (from jinja2->torch>=1.11.0->sentence-transformers) (2.1.5)\n",
            "Requirement already satisfied: charset-normalizer<4,>=2 in /usr/local/lib/python3.10/dist-packages (from requests->huggingface-hub>=0.15.1->sentence-transformers) (3.3.2)\n",
            "Requirement already satisfied: idna<4,>=2.5 in /usr/local/lib/python3.10/dist-packages (from requests->huggingface-hub>=0.15.1->sentence-transformers) (3.7)\n",
            "Requirement already satisfied: urllib3<3,>=1.21.1 in /usr/local/lib/python3.10/dist-packages (from requests->huggingface-hub>=0.15.1->sentence-transformers) (2.0.7)\n",
            "Requirement already satisfied: certifi>=2017.4.17 in /usr/local/lib/python3.10/dist-packages (from requests->huggingface-hub>=0.15.1->sentence-transformers) (2024.6.2)\n",
            "Requirement already satisfied: mpmath<1.4.0,>=1.1.0 in /usr/local/lib/python3.10/dist-packages (from sympy->torch>=1.11.0->sentence-transformers) (1.3.0)\n"
          ]
        }
      ],
      "source": [
        "# https://sbert.net/\n",
        "!pip install -U sentence-transformers"
      ]
    },
    {
      "cell_type": "code",
      "execution_count": 6,
      "metadata": {
        "colab": {
          "base_uri": "https://localhost:8080/"
        },
        "id": "WYkg0w8Z0BEO",
        "outputId": "4c5bcc13-74f5-4f97-83fa-14ba24967cd9"
      },
      "outputs": [
        {
          "output_type": "stream",
          "name": "stdout",
          "text": [
            "Requirement already satisfied: bertopic in /usr/local/lib/python3.10/dist-packages (0.16.2)\n",
            "Requirement already satisfied: numpy>=1.20.0 in /usr/local/lib/python3.10/dist-packages (from bertopic) (1.25.2)\n",
            "Requirement already satisfied: hdbscan>=0.8.29 in /usr/local/lib/python3.10/dist-packages (from bertopic) (0.8.36)\n",
            "Requirement already satisfied: umap-learn>=0.5.0 in /usr/local/lib/python3.10/dist-packages (from bertopic) (0.5.6)\n",
            "Requirement already satisfied: pandas>=1.1.5 in /usr/local/lib/python3.10/dist-packages (from bertopic) (2.0.3)\n",
            "Requirement already satisfied: scikit-learn>=0.22.2.post1 in /usr/local/lib/python3.10/dist-packages (from bertopic) (1.2.2)\n",
            "Requirement already satisfied: tqdm>=4.41.1 in /usr/local/lib/python3.10/dist-packages (from bertopic) (4.66.4)\n",
            "Requirement already satisfied: sentence-transformers>=0.4.1 in /usr/local/lib/python3.10/dist-packages (from bertopic) (3.0.1)\n",
            "Requirement already satisfied: plotly>=4.7.0 in /usr/local/lib/python3.10/dist-packages (from bertopic) (5.15.0)\n",
            "Requirement already satisfied: cython<3,>=0.27 in /usr/local/lib/python3.10/dist-packages (from hdbscan>=0.8.29->bertopic) (0.29.37)\n",
            "Requirement already satisfied: scipy>=1.0 in /usr/local/lib/python3.10/dist-packages (from hdbscan>=0.8.29->bertopic) (1.11.4)\n",
            "Requirement already satisfied: joblib>=1.0 in /usr/local/lib/python3.10/dist-packages (from hdbscan>=0.8.29->bertopic) (1.4.2)\n",
            "Requirement already satisfied: python-dateutil>=2.8.2 in /usr/local/lib/python3.10/dist-packages (from pandas>=1.1.5->bertopic) (2.8.2)\n",
            "Requirement already satisfied: pytz>=2020.1 in /usr/local/lib/python3.10/dist-packages (from pandas>=1.1.5->bertopic) (2023.4)\n",
            "Requirement already satisfied: tzdata>=2022.1 in /usr/local/lib/python3.10/dist-packages (from pandas>=1.1.5->bertopic) (2024.1)\n",
            "Requirement already satisfied: tenacity>=6.2.0 in /usr/local/lib/python3.10/dist-packages (from plotly>=4.7.0->bertopic) (8.3.0)\n",
            "Requirement already satisfied: packaging in /usr/local/lib/python3.10/dist-packages (from plotly>=4.7.0->bertopic) (24.1)\n",
            "Requirement already satisfied: threadpoolctl>=2.0.0 in /usr/local/lib/python3.10/dist-packages (from scikit-learn>=0.22.2.post1->bertopic) (3.5.0)\n",
            "Requirement already satisfied: transformers<5.0.0,>=4.34.0 in /usr/local/lib/python3.10/dist-packages (from sentence-transformers>=0.4.1->bertopic) (4.41.2)\n",
            "Requirement already satisfied: torch>=1.11.0 in /usr/local/lib/python3.10/dist-packages (from sentence-transformers>=0.4.1->bertopic) (2.3.0+cu121)\n",
            "Requirement already satisfied: huggingface-hub>=0.15.1 in /usr/local/lib/python3.10/dist-packages (from sentence-transformers>=0.4.1->bertopic) (0.23.3)\n",
            "Requirement already satisfied: Pillow in /usr/local/lib/python3.10/dist-packages (from sentence-transformers>=0.4.1->bertopic) (9.4.0)\n",
            "Requirement already satisfied: numba>=0.51.2 in /usr/local/lib/python3.10/dist-packages (from umap-learn>=0.5.0->bertopic) (0.58.1)\n",
            "Requirement already satisfied: pynndescent>=0.5 in /usr/local/lib/python3.10/dist-packages (from umap-learn>=0.5.0->bertopic) (0.5.12)\n",
            "Requirement already satisfied: filelock in /usr/local/lib/python3.10/dist-packages (from huggingface-hub>=0.15.1->sentence-transformers>=0.4.1->bertopic) (3.14.0)\n",
            "Requirement already satisfied: fsspec>=2023.5.0 in /usr/local/lib/python3.10/dist-packages (from huggingface-hub>=0.15.1->sentence-transformers>=0.4.1->bertopic) (2023.6.0)\n",
            "Requirement already satisfied: pyyaml>=5.1 in /usr/local/lib/python3.10/dist-packages (from huggingface-hub>=0.15.1->sentence-transformers>=0.4.1->bertopic) (6.0.1)\n",
            "Requirement already satisfied: requests in /usr/local/lib/python3.10/dist-packages (from huggingface-hub>=0.15.1->sentence-transformers>=0.4.1->bertopic) (2.31.0)\n",
            "Requirement already satisfied: typing-extensions>=3.7.4.3 in /usr/local/lib/python3.10/dist-packages (from huggingface-hub>=0.15.1->sentence-transformers>=0.4.1->bertopic) (4.12.2)\n",
            "Requirement already satisfied: llvmlite<0.42,>=0.41.0dev0 in /usr/local/lib/python3.10/dist-packages (from numba>=0.51.2->umap-learn>=0.5.0->bertopic) (0.41.1)\n",
            "Requirement already satisfied: six>=1.5 in /usr/local/lib/python3.10/dist-packages (from python-dateutil>=2.8.2->pandas>=1.1.5->bertopic) (1.16.0)\n",
            "Requirement already satisfied: sympy in /usr/local/lib/python3.10/dist-packages (from torch>=1.11.0->sentence-transformers>=0.4.1->bertopic) (1.12.1)\n",
            "Requirement already satisfied: networkx in /usr/local/lib/python3.10/dist-packages (from torch>=1.11.0->sentence-transformers>=0.4.1->bertopic) (3.3)\n",
            "Requirement already satisfied: jinja2 in /usr/local/lib/python3.10/dist-packages (from torch>=1.11.0->sentence-transformers>=0.4.1->bertopic) (3.1.4)\n",
            "Requirement already satisfied: nvidia-cuda-nvrtc-cu12==12.1.105 in /usr/local/lib/python3.10/dist-packages (from torch>=1.11.0->sentence-transformers>=0.4.1->bertopic) (12.1.105)\n",
            "Requirement already satisfied: nvidia-cuda-runtime-cu12==12.1.105 in /usr/local/lib/python3.10/dist-packages (from torch>=1.11.0->sentence-transformers>=0.4.1->bertopic) (12.1.105)\n",
            "Requirement already satisfied: nvidia-cuda-cupti-cu12==12.1.105 in /usr/local/lib/python3.10/dist-packages (from torch>=1.11.0->sentence-transformers>=0.4.1->bertopic) (12.1.105)\n",
            "Requirement already satisfied: nvidia-cudnn-cu12==8.9.2.26 in /usr/local/lib/python3.10/dist-packages (from torch>=1.11.0->sentence-transformers>=0.4.1->bertopic) (8.9.2.26)\n",
            "Requirement already satisfied: nvidia-cublas-cu12==12.1.3.1 in /usr/local/lib/python3.10/dist-packages (from torch>=1.11.0->sentence-transformers>=0.4.1->bertopic) (12.1.3.1)\n",
            "Requirement already satisfied: nvidia-cufft-cu12==11.0.2.54 in /usr/local/lib/python3.10/dist-packages (from torch>=1.11.0->sentence-transformers>=0.4.1->bertopic) (11.0.2.54)\n",
            "Requirement already satisfied: nvidia-curand-cu12==10.3.2.106 in /usr/local/lib/python3.10/dist-packages (from torch>=1.11.0->sentence-transformers>=0.4.1->bertopic) (10.3.2.106)\n",
            "Requirement already satisfied: nvidia-cusolver-cu12==11.4.5.107 in /usr/local/lib/python3.10/dist-packages (from torch>=1.11.0->sentence-transformers>=0.4.1->bertopic) (11.4.5.107)\n",
            "Requirement already satisfied: nvidia-cusparse-cu12==12.1.0.106 in /usr/local/lib/python3.10/dist-packages (from torch>=1.11.0->sentence-transformers>=0.4.1->bertopic) (12.1.0.106)\n",
            "Requirement already satisfied: nvidia-nccl-cu12==2.20.5 in /usr/local/lib/python3.10/dist-packages (from torch>=1.11.0->sentence-transformers>=0.4.1->bertopic) (2.20.5)\n",
            "Requirement already satisfied: nvidia-nvtx-cu12==12.1.105 in /usr/local/lib/python3.10/dist-packages (from torch>=1.11.0->sentence-transformers>=0.4.1->bertopic) (12.1.105)\n",
            "Requirement already satisfied: triton==2.3.0 in /usr/local/lib/python3.10/dist-packages (from torch>=1.11.0->sentence-transformers>=0.4.1->bertopic) (2.3.0)\n",
            "Requirement already satisfied: nvidia-nvjitlink-cu12 in /usr/local/lib/python3.10/dist-packages (from nvidia-cusolver-cu12==11.4.5.107->torch>=1.11.0->sentence-transformers>=0.4.1->bertopic) (12.5.40)\n",
            "Requirement already satisfied: regex!=2019.12.17 in /usr/local/lib/python3.10/dist-packages (from transformers<5.0.0,>=4.34.0->sentence-transformers>=0.4.1->bertopic) (2024.5.15)\n",
            "Requirement already satisfied: tokenizers<0.20,>=0.19 in /usr/local/lib/python3.10/dist-packages (from transformers<5.0.0,>=4.34.0->sentence-transformers>=0.4.1->bertopic) (0.19.1)\n",
            "Requirement already satisfied: safetensors>=0.4.1 in /usr/local/lib/python3.10/dist-packages (from transformers<5.0.0,>=4.34.0->sentence-transformers>=0.4.1->bertopic) (0.4.3)\n",
            "Requirement already satisfied: MarkupSafe>=2.0 in /usr/local/lib/python3.10/dist-packages (from jinja2->torch>=1.11.0->sentence-transformers>=0.4.1->bertopic) (2.1.5)\n",
            "Requirement already satisfied: charset-normalizer<4,>=2 in /usr/local/lib/python3.10/dist-packages (from requests->huggingface-hub>=0.15.1->sentence-transformers>=0.4.1->bertopic) (3.3.2)\n",
            "Requirement already satisfied: idna<4,>=2.5 in /usr/local/lib/python3.10/dist-packages (from requests->huggingface-hub>=0.15.1->sentence-transformers>=0.4.1->bertopic) (3.7)\n",
            "Requirement already satisfied: urllib3<3,>=1.21.1 in /usr/local/lib/python3.10/dist-packages (from requests->huggingface-hub>=0.15.1->sentence-transformers>=0.4.1->bertopic) (2.0.7)\n",
            "Requirement already satisfied: certifi>=2017.4.17 in /usr/local/lib/python3.10/dist-packages (from requests->huggingface-hub>=0.15.1->sentence-transformers>=0.4.1->bertopic) (2024.6.2)\n",
            "Requirement already satisfied: mpmath<1.4.0,>=1.1.0 in /usr/local/lib/python3.10/dist-packages (from sympy->torch>=1.11.0->sentence-transformers>=0.4.1->bertopic) (1.3.0)\n"
          ]
        }
      ],
      "source": [
        "# https://github.com/MaartenGr/BERTopic\n",
        "!pip install bertopic"
      ]
    },
    {
      "cell_type": "markdown",
      "metadata": {
        "id": "oRW77qBz7Brt"
      },
      "source": [
        "## Import Libraries"
      ]
    },
    {
      "cell_type": "code",
      "execution_count": 128,
      "metadata": {
        "id": "EPrEblmbASZi"
      },
      "outputs": [],
      "source": [
        "import random\n",
        "import numpy as np\n",
        "import matplotlib.pyplot as plt\n",
        "import pandas as pd\n",
        "from scipy import sparse\n",
        "import re\n",
        "\n",
        "from sklearn.pipeline import make_pipeline\n",
        "from sklearn.preprocessing import Normalizer\n",
        "from sklearn.metrics import *\n",
        "from sklearn.metrics.pairwise import cosine_similarity,\\\n",
        "                                     cosine_distances\n",
        "\n",
        "from sklearn.cluster import KMeans,\\\n",
        "                            SpectralClustering\n",
        "from sklearn.linear_model import LinearRegression\n",
        "from sklearn.neighbors import KNeighborsClassifier,\\\n",
        "                            KNeighborsRegressor\n",
        "from sklearn.naive_bayes import GaussianNB\n",
        "from sklearn.svm import SVC\n",
        "from sklearn.tree import DecisionTreeClassifier,\\\n",
        "                            DecisionTreeRegressor\n",
        "from sklearn.ensemble import RandomForestClassifier,\\\n",
        "                            VotingClassifier,\\\n",
        "                            VotingRegressor,\\\n",
        "                            StackingRegressor\n",
        "from sklearn.neural_network import MLPClassifier,\\\n",
        "                            MLPRegressor\n",
        "from sklearn.model_selection import train_test_split,\\\n",
        "                            cross_val_score,\\\n",
        "                            GridSearchCV\n",
        "from sklearn.decomposition import PCA\n",
        "\n",
        "import seaborn as sns"
      ]
    },
    {
      "cell_type": "code",
      "source": [
        "import nltk\n",
        "# nltk.download('punkt')\n",
        "# from nltk.tokenize import punkt\n",
        "nltk.download('stopwords')\n",
        "from nltk.corpus import stopwords\n",
        "nltk.download('wordnet')\n",
        "from nltk.stem.wordnet import WordNetLemmatizer"
      ],
      "metadata": {
        "colab": {
          "base_uri": "https://localhost:8080/"
        },
        "id": "GFa8gnojOKm2",
        "outputId": "43769e4c-1870-4114-c384-3dfd047fde05"
      },
      "execution_count": 8,
      "outputs": [
        {
          "output_type": "stream",
          "name": "stderr",
          "text": [
            "[nltk_data] Downloading package stopwords to /root/nltk_data...\n",
            "[nltk_data]   Package stopwords is already up-to-date!\n",
            "[nltk_data] Downloading package wordnet to /root/nltk_data...\n",
            "[nltk_data]   Package wordnet is already up-to-date!\n"
          ]
        }
      ]
    },
    {
      "cell_type": "code",
      "execution_count": 9,
      "metadata": {
        "id": "BPSm1EALefIX"
      },
      "outputs": [],
      "source": [
        "# Text preprocessing\n",
        "\n",
        "import wordninja\n",
        "from autocorrect import Speller"
      ]
    },
    {
      "cell_type": "code",
      "execution_count": 10,
      "metadata": {
        "id": "fYy2XF-X8mza",
        "colab": {
          "base_uri": "https://localhost:8080/"
        },
        "outputId": "500c3af0-7847-4ec7-c541-f46f506632ca"
      },
      "outputs": [
        {
          "output_type": "stream",
          "name": "stderr",
          "text": [
            "/usr/local/lib/python3.10/dist-packages/sentence_transformers/cross_encoder/CrossEncoder.py:11: TqdmExperimentalWarning: Using `tqdm.autonotebook.tqdm` in notebook mode. Use `tqdm.tqdm` instead to force console mode (e.g. in jupyter console)\n",
            "  from tqdm.autonotebook import tqdm, trange\n"
          ]
        }
      ],
      "source": [
        "# Vectorizers\n",
        "\n",
        "# TF-IDF\n",
        "from sklearn.feature_extraction.text import CountVectorizer,\\\n",
        "                                            TfidfVectorizer\n",
        "\n",
        "# Use BERT as the sentence encoder since it's the best open-source option\n",
        "from sentence_transformers import SentenceTransformer\n",
        "\n",
        "# use the bertopic text class vectorizer\n",
        "from bertopic import BERTopic"
      ]
    },
    {
      "cell_type": "markdown",
      "metadata": {
        "id": "tQLf6Q3o7rfD"
      },
      "source": [
        "## Set global variables"
      ]
    },
    {
      "cell_type": "code",
      "execution_count": 11,
      "metadata": {
        "id": "99TY1c78AeUf"
      },
      "outputs": [],
      "source": [
        "class_map = {\"ham\": 0, \"spam\": 1}\n",
        "color_map = {0: \"green\", 1: \"red\"}\n",
        "\n",
        "char_ngrams = (1, 6)\n",
        "word_ngrams = (1, 3)\n",
        "minSusLen = 500\n",
        "lenWeight = 0.01\n",
        "\n",
        "np.random.seed(42)\n",
        "random_state = 0"
      ]
    },
    {
      "cell_type": "markdown",
      "source": [
        "## Create NLP preprocessors"
      ],
      "metadata": {
        "id": "CL7wSq8JN2T4"
      }
    },
    {
      "cell_type": "code",
      "source": [
        "stop_words = stopwords.words(\"english\")\n",
        "lemmatizer = WordNetLemmatizer()"
      ],
      "metadata": {
        "id": "izZqaGA2N70S"
      },
      "execution_count": 12,
      "outputs": []
    },
    {
      "cell_type": "code",
      "execution_count": 13,
      "metadata": {
        "id": "9EJaX-VYST98"
      },
      "outputs": [],
      "source": [
        "# Regex for phone numbers\n",
        "phone_regex = re.compile(r'(\\+\\d{1,2}\\s?)?\\(?\\d{3}\\)?[\\s.-]?\\d{3}[\\s.-]?\\d{4}')\n",
        "\n",
        "# Regex for emails\n",
        "email_regex = re.compile(r'[A-Za-z0-9. _%-]+@[A-Za-z0-9. -]+\\\\. [A-Za-z]{2,4}')\n",
        "\n",
        "# Regex for URLs\n",
        "url_regex = re.compile(r'https?:\\/\\/(www\\.)?[a-zA-Z0-9.-]+\\.[a-zA-Z]{2,6}(/[a-zA-Z0-9._~:/?#[\\]@!$&\\'()*+,;=-]*)?')"
      ]
    },
    {
      "cell_type": "code",
      "execution_count": 14,
      "metadata": {
        "id": "WtNlLMSze7Kf"
      },
      "outputs": [],
      "source": [
        "speller = Speller(lang=\"en\")"
      ]
    },
    {
      "cell_type": "markdown",
      "metadata": {
        "id": "zBXDsUprSqsM"
      },
      "source": [
        "## Create Embedding Models"
      ]
    },
    {
      "cell_type": "code",
      "execution_count": 15,
      "metadata": {
        "id": "ypGb02-Xliuy"
      },
      "outputs": [],
      "source": [
        "def get_ngrams(document, word_ngram_range=(1, 3), char_ngram_range=(1, 3)):\n",
        "    # Get word n-grams\n",
        "    word_vectorizer = CountVectorizer(ngram_range=word_ngram_range, analyzer='word')\n",
        "    word_analyzer = word_vectorizer.build_analyzer()\n",
        "    word_ngrams = word_analyzer(document)\n",
        "\n",
        "    # Get character n-grams\n",
        "    char_vectorizer = CountVectorizer(ngram_range=char_ngram_range, analyzer='char')\n",
        "    char_analyzer = char_vectorizer.build_analyzer()\n",
        "    char_ngrams = char_analyzer(document)\n",
        "\n",
        "    return char_ngrams + word_ngrams"
      ]
    },
    {
      "cell_type": "code",
      "execution_count": 16,
      "metadata": {
        "id": "4myIjkDy3STQ"
      },
      "outputs": [],
      "source": [
        "# create the tfidf vectorizer\n",
        "vec = TfidfVectorizer(\\\n",
        "                      analyzer=get_ngrams,\\\n",
        "                      ngram_range=word_ngrams,\\\n",
        "                      norm=\"l2\",\\\n",
        "                      min_df=0.001,\\\n",
        "                      max_df=0.9,\\\n",
        "                      sublinear_tf=False)\n",
        "\n",
        "# Load a pretrained Sentence Transformer model\n",
        "sentence_embedder = SentenceTransformer(\"all-MiniLM-L6-v2\")\n",
        "\n",
        "# Load a pretrained topic embedding model\n",
        "# https://maartengr.github.io/BERTopic/getting_started/parameter%20tuning/parametertuning.html#language\n",
        "topic_model = BERTopic(top_n_words=15,\\\n",
        "                       n_gram_range=word_ngrams,\\\n",
        "                       min_topic_size=10,\\\n",
        "                       nr_topics=50,\\\n",
        "                       calculate_probabilities=True)"
      ]
    },
    {
      "cell_type": "markdown",
      "metadata": {
        "id": "8IQFgly_Usnp"
      },
      "source": [
        "#Import and clean data"
      ]
    },
    {
      "cell_type": "markdown",
      "metadata": {
        "id": "GqzZbrh8SG4T"
      },
      "source": [
        "##Important Functions"
      ]
    },
    {
      "cell_type": "code",
      "execution_count": 17,
      "metadata": {
        "id": "x7VEmmDkSJHq"
      },
      "outputs": [],
      "source": [
        "def get_contact_counts(doc):\n",
        "    # Find phone numbers\n",
        "    phones = phone_regex.findall(doc)\n",
        "\n",
        "    # Find emails\n",
        "    emails = email_regex.findall(doc)\n",
        "\n",
        "    # Find URLs\n",
        "    urls = url_regex.findall(doc)\n",
        "\n",
        "    return (len(phones), len(emails), len(urls))"
      ]
    },
    {
      "cell_type": "code",
      "execution_count": 18,
      "metadata": {
        "id": "9K1Ghri9X9Q1"
      },
      "outputs": [],
      "source": [
        "def leet_to_english(text):\n",
        "    leet_dict = {\n",
        "        '0': 'o',\n",
        "        '1': 'l',\n",
        "        '3': 'e',\n",
        "        '4': 'a',\n",
        "        '5': 's',\n",
        "        '7': 't',\n",
        "        '8': 'b',\n",
        "        '9': 'g'\n",
        "    }\n",
        "\n",
        "    # Add common leet transformations if needed\n",
        "    for leet, eng in leet_dict.items():\n",
        "        text = text.replace(leet, eng)\n",
        "\n",
        "    return text"
      ]
    },
    {
      "cell_type": "markdown",
      "metadata": {
        "id": "0xq4Y-QldsGY"
      },
      "source": [
        "## Import, Prepare data"
      ]
    },
    {
      "cell_type": "code",
      "execution_count": 19,
      "metadata": {
        "id": "CpIHybY1AMVh"
      },
      "outputs": [],
      "source": [
        "corpus = pd.read_csv(\"https://raw.githubusercontent.com/IsaacFigNewton/Smishing-Detector/sklearn-approach/dataset/SMSSpamCollection.txt\", sep=\"\\t\", on_bad_lines='warn')\n",
        "\n",
        "# clean the corpus\n",
        "corpus = corpus.dropna(axis=0)\n",
        "\n",
        "# rename dataset columns\n",
        "corpus.columns = [\"class\", \"text\"]\n",
        "\n",
        "# save data info for later exploration\n",
        "corpus_counts = corpus[\"class\"].value_counts()\n",
        "\n",
        "# convert the class to a numeric value\n",
        "corpus[\"class\"] = corpus[\"class\"].map(class_map)\n",
        "\n",
        "# get a subset of the dataset for model testing before training on whole dataset\n",
        "corpus = corpus.loc[:1000]"
      ]
    },
    {
      "cell_type": "code",
      "source": [
        "corpus[\"color\"] = corpus[\"class\"].map(color_map)"
      ],
      "metadata": {
        "id": "mTEb6RkdTlcA"
      },
      "execution_count": 138,
      "outputs": []
    },
    {
      "cell_type": "code",
      "source": [
        "print(corpus_counts)"
      ],
      "metadata": {
        "colab": {
          "base_uri": "https://localhost:8080/"
        },
        "id": "UgQLbLIGVXDI",
        "outputId": "bb0820df-c70d-4a3c-c6fd-710043475d3b"
      },
      "execution_count": 20,
      "outputs": [
        {
          "output_type": "stream",
          "name": "stdout",
          "text": [
            "class\n",
            "ham     4824\n",
            "spam     747\n",
            "Name: count, dtype: int64\n"
          ]
        }
      ]
    },
    {
      "cell_type": "markdown",
      "source": [
        "## Clean Data and Extract Features"
      ],
      "metadata": {
        "id": "oLXWv4XGSUnA"
      }
    },
    {
      "cell_type": "code",
      "execution_count": 21,
      "metadata": {
        "id": "hT1Ii7kkgREX"
      },
      "outputs": [],
      "source": [
        "# extract numerical features\n",
        "\n",
        "# count number of integers\n",
        "corpus[\"num_digits\"] = corpus[\"text\"].apply(lambda s: sum(word.isdigit() for word in s.split()))\n",
        "\n",
        "# get the number of contacts in the sms\n",
        "# corpus[\"phone_count\", \"email_count\", \"url_count\"] = corpus[\"text\"].apply(lambda x: get_contact_counts(x))\n",
        "contact_counts = corpus[\"text\"].apply(lambda x: get_contact_counts(x))\n",
        "corpus[\"phone_count\"] = contact_counts.apply(lambda x: x[0])\n",
        "corpus[\"email_count\"] = contact_counts.apply(lambda x: x[1])\n",
        "corpus[\"url_count\"] = contact_counts.apply(lambda x: x[2])"
      ]
    },
    {
      "cell_type": "code",
      "source": [
        "# extract character features\n",
        "\n",
        "# get the number of characters in the sms\n",
        "corpus[\"char_count\"] = corpus[\"text\"].apply(lambda x: len(x))\n",
        "\n",
        "# get the number of unique characters in the sms\n",
        "corpus[\"unique_char_count\"] = corpus[\"text\"].apply(lambda x: len(set(x)))"
      ],
      "metadata": {
        "id": "NJsms98cNq5v"
      },
      "execution_count": 22,
      "outputs": []
    },
    {
      "cell_type": "code",
      "execution_count": 23,
      "metadata": {
        "id": "Piukc6KcdH-x"
      },
      "outputs": [],
      "source": [
        "# remove numerical features from base text\n",
        "\n",
        "# remove contact info from text, replacing it with filler\n",
        "corpus[\"text_with_replacements\"] = corpus[\"text\"].apply(lambda x: re.sub(phone_regex, \"phone\", x))\n",
        "corpus[\"text_with_replacements\"] = corpus[\"text\"].apply(lambda x: re.sub(email_regex, \"email\", x))\n",
        "corpus[\"text_with_replacements\"] = corpus[\"text\"].apply(lambda x: re.sub(url_regex, \"url\", x))"
      ]
    },
    {
      "cell_type": "code",
      "source": [
        "# test_str = \"Iate taht appl\"\n",
        "# print(\"Test string: \" + test_str)\n",
        "# print()\n",
        "\n",
        "# split_str = \" \".join(wordninja.split(test_str))\n",
        "# corrected_str = speller(test_str)\n",
        "# print(\"Split string: \" + split_str)\n",
        "# print(\"Corrected string: \" + corrected_str)\n",
        "# print()\n",
        "# print(\"Split Corrected string: \" + \" \".join(wordninja.split(corrected_str)))\n",
        "# print(\"Corrected Split string: \" + speller(split_str))"
      ],
      "metadata": {
        "id": "mPKiDqPdEx98"
      },
      "execution_count": 24,
      "outputs": []
    },
    {
      "cell_type": "code",
      "source": [
        "# fix common leet replacements\n",
        "# corpus[\"text_with_replacements\"] = corpus[\"text\"].apply(lambda x: leet_to_english(x))\n",
        "\n",
        "# # probabilistically break up any words with missing spaces\n",
        "# corpus[\"text_with_replacements\"] = corpus[\"text_with_replacements\"].apply(lambda x: \" \".join(wordninja.split(x)))\n",
        "\n",
        "# # correct spelling for better embedding\n",
        "# corpus[\"text_with_replacements\"] = corpus[\"text_with_replacements\"].apply(lambda x: speller(x))\n",
        "\n",
        "# remove stop words and lemmatize text\n",
        "# corpus[\"text_with_replacements\"] = corpus[\"text_with_replacements\"]\\\n",
        "#                                       .apply(lambda x: \" \".join([lemmatizer.lemmatize(word) for word in x.split() if word not in stop_words]))"
      ],
      "metadata": {
        "id": "Igu8BFzhMo92"
      },
      "execution_count": 25,
      "outputs": []
    },
    {
      "cell_type": "code",
      "source": [
        "# extract word features\n",
        "\n",
        "# get the number of words in the sms\n",
        "corpus[\"word_count\"] = corpus[\"text_with_replacements\"].apply(lambda x: len(x.split()))\n",
        "\n",
        "# get the number of unique words in the sms\n",
        "corpus[\"unique_word_count\"] = corpus[\"text_with_replacements\"].apply(lambda x: len(set(x.split())))"
      ],
      "metadata": {
        "id": "mAHbEupRRaBZ"
      },
      "execution_count": 26,
      "outputs": []
    },
    {
      "cell_type": "code",
      "execution_count": 27,
      "metadata": {
        "id": "VzyOXmTjeWBq"
      },
      "outputs": [],
      "source": [
        "scaler = Normalizer()\n",
        "cols_to_normalize = [\"word_count\", \"char_count\", \"unique_word_count\", \"unique_char_count\", \"num_digits\", \"phone_count\", \"email_count\", \"url_count\"]\n",
        "scaled_cols_to_normalize = [\"scaled_\" + col for col in cols_to_normalize]\n",
        "\n",
        "# Normalize value count columns\n",
        "corpus[scaled_cols_to_normalize] = scaler.fit_transform(corpus[cols_to_normalize].values)"
      ]
    },
    {
      "cell_type": "code",
      "execution_count": 28,
      "metadata": {
        "colab": {
          "base_uri": "https://localhost:8080/",
          "height": 0
        },
        "id": "5n_VPzyIbrIC",
        "outputId": "8202bcf2-c787-4afb-aaf6-ad5e2fa3c640"
      },
      "outputs": [
        {
          "output_type": "execute_result",
          "data": {
            "text/plain": [
              "   class                                               text  num_digits  \\\n",
              "0      0                      Ok lar... Joking wif u oni...           0   \n",
              "1      1  Free entry in 2 a wkly comp to win FA Cup fina...           2   \n",
              "2      0  U dun say so early hor... U c already then say...           0   \n",
              "3      0  Nah I don't think he goes to usf, he lives aro...           0   \n",
              "4      1  FreeMsg Hey there darling it's been 3 week's n...           1   \n",
              "\n",
              "   phone_count  email_count  url_count  char_count  unique_char_count  \\\n",
              "0            0            0          0          29                 15   \n",
              "1            1            0          0         155                 39   \n",
              "2            0            0          0          49                 16   \n",
              "3            0            0          0          61                 21   \n",
              "4            0            0          0         147                 40   \n",
              "\n",
              "                              text_with_replacements  word_count  \\\n",
              "0                      Ok lar... Joking wif u oni...           6   \n",
              "1  Free entry in 2 a wkly comp to win FA Cup fina...          28   \n",
              "2  U dun say so early hor... U c already then say...          11   \n",
              "3  Nah I don't think he goes to usf, he lives aro...          13   \n",
              "4  FreeMsg Hey there darling it's been 3 week's n...          32   \n",
              "\n",
              "   unique_word_count  scaled_word_count  scaled_char_count  \\\n",
              "0                  6           0.177861           0.859660   \n",
              "1                 24           0.170684           0.944859   \n",
              "2                 10           0.205044           0.913378   \n",
              "3                 12           0.194333           0.911871   \n",
              "4                 31           0.201601           0.926105   \n",
              "\n",
              "   scaled_unique_word_count  scaled_unique_char_count  scaled_num_digits  \\\n",
              "0                  0.177861                  0.444652           0.000000   \n",
              "1                  0.146301                  0.237739           0.012192   \n",
              "2                  0.186404                  0.298246           0.000000   \n",
              "3                  0.179384                  0.313923           0.000000   \n",
              "4                  0.195301                  0.252001           0.006300   \n",
              "\n",
              "   scaled_phone_count  scaled_email_count  scaled_url_count  \n",
              "0            0.000000                 0.0               0.0  \n",
              "1            0.006096                 0.0               0.0  \n",
              "2            0.000000                 0.0               0.0  \n",
              "3            0.000000                 0.0               0.0  \n",
              "4            0.000000                 0.0               0.0  "
            ],
            "text/html": [
              "\n",
              "  <div id=\"df-959fafc3-cd7f-4a3d-8cef-109c1972927b\" class=\"colab-df-container\">\n",
              "    <div>\n",
              "<style scoped>\n",
              "    .dataframe tbody tr th:only-of-type {\n",
              "        vertical-align: middle;\n",
              "    }\n",
              "\n",
              "    .dataframe tbody tr th {\n",
              "        vertical-align: top;\n",
              "    }\n",
              "\n",
              "    .dataframe thead th {\n",
              "        text-align: right;\n",
              "    }\n",
              "</style>\n",
              "<table border=\"1\" class=\"dataframe\">\n",
              "  <thead>\n",
              "    <tr style=\"text-align: right;\">\n",
              "      <th></th>\n",
              "      <th>class</th>\n",
              "      <th>text</th>\n",
              "      <th>num_digits</th>\n",
              "      <th>phone_count</th>\n",
              "      <th>email_count</th>\n",
              "      <th>url_count</th>\n",
              "      <th>char_count</th>\n",
              "      <th>unique_char_count</th>\n",
              "      <th>text_with_replacements</th>\n",
              "      <th>word_count</th>\n",
              "      <th>unique_word_count</th>\n",
              "      <th>scaled_word_count</th>\n",
              "      <th>scaled_char_count</th>\n",
              "      <th>scaled_unique_word_count</th>\n",
              "      <th>scaled_unique_char_count</th>\n",
              "      <th>scaled_num_digits</th>\n",
              "      <th>scaled_phone_count</th>\n",
              "      <th>scaled_email_count</th>\n",
              "      <th>scaled_url_count</th>\n",
              "    </tr>\n",
              "  </thead>\n",
              "  <tbody>\n",
              "    <tr>\n",
              "      <th>0</th>\n",
              "      <td>0</td>\n",
              "      <td>Ok lar... Joking wif u oni...</td>\n",
              "      <td>0</td>\n",
              "      <td>0</td>\n",
              "      <td>0</td>\n",
              "      <td>0</td>\n",
              "      <td>29</td>\n",
              "      <td>15</td>\n",
              "      <td>Ok lar... Joking wif u oni...</td>\n",
              "      <td>6</td>\n",
              "      <td>6</td>\n",
              "      <td>0.177861</td>\n",
              "      <td>0.859660</td>\n",
              "      <td>0.177861</td>\n",
              "      <td>0.444652</td>\n",
              "      <td>0.000000</td>\n",
              "      <td>0.000000</td>\n",
              "      <td>0.0</td>\n",
              "      <td>0.0</td>\n",
              "    </tr>\n",
              "    <tr>\n",
              "      <th>1</th>\n",
              "      <td>1</td>\n",
              "      <td>Free entry in 2 a wkly comp to win FA Cup fina...</td>\n",
              "      <td>2</td>\n",
              "      <td>1</td>\n",
              "      <td>0</td>\n",
              "      <td>0</td>\n",
              "      <td>155</td>\n",
              "      <td>39</td>\n",
              "      <td>Free entry in 2 a wkly comp to win FA Cup fina...</td>\n",
              "      <td>28</td>\n",
              "      <td>24</td>\n",
              "      <td>0.170684</td>\n",
              "      <td>0.944859</td>\n",
              "      <td>0.146301</td>\n",
              "      <td>0.237739</td>\n",
              "      <td>0.012192</td>\n",
              "      <td>0.006096</td>\n",
              "      <td>0.0</td>\n",
              "      <td>0.0</td>\n",
              "    </tr>\n",
              "    <tr>\n",
              "      <th>2</th>\n",
              "      <td>0</td>\n",
              "      <td>U dun say so early hor... U c already then say...</td>\n",
              "      <td>0</td>\n",
              "      <td>0</td>\n",
              "      <td>0</td>\n",
              "      <td>0</td>\n",
              "      <td>49</td>\n",
              "      <td>16</td>\n",
              "      <td>U dun say so early hor... U c already then say...</td>\n",
              "      <td>11</td>\n",
              "      <td>10</td>\n",
              "      <td>0.205044</td>\n",
              "      <td>0.913378</td>\n",
              "      <td>0.186404</td>\n",
              "      <td>0.298246</td>\n",
              "      <td>0.000000</td>\n",
              "      <td>0.000000</td>\n",
              "      <td>0.0</td>\n",
              "      <td>0.0</td>\n",
              "    </tr>\n",
              "    <tr>\n",
              "      <th>3</th>\n",
              "      <td>0</td>\n",
              "      <td>Nah I don't think he goes to usf, he lives aro...</td>\n",
              "      <td>0</td>\n",
              "      <td>0</td>\n",
              "      <td>0</td>\n",
              "      <td>0</td>\n",
              "      <td>61</td>\n",
              "      <td>21</td>\n",
              "      <td>Nah I don't think he goes to usf, he lives aro...</td>\n",
              "      <td>13</td>\n",
              "      <td>12</td>\n",
              "      <td>0.194333</td>\n",
              "      <td>0.911871</td>\n",
              "      <td>0.179384</td>\n",
              "      <td>0.313923</td>\n",
              "      <td>0.000000</td>\n",
              "      <td>0.000000</td>\n",
              "      <td>0.0</td>\n",
              "      <td>0.0</td>\n",
              "    </tr>\n",
              "    <tr>\n",
              "      <th>4</th>\n",
              "      <td>1</td>\n",
              "      <td>FreeMsg Hey there darling it's been 3 week's n...</td>\n",
              "      <td>1</td>\n",
              "      <td>0</td>\n",
              "      <td>0</td>\n",
              "      <td>0</td>\n",
              "      <td>147</td>\n",
              "      <td>40</td>\n",
              "      <td>FreeMsg Hey there darling it's been 3 week's n...</td>\n",
              "      <td>32</td>\n",
              "      <td>31</td>\n",
              "      <td>0.201601</td>\n",
              "      <td>0.926105</td>\n",
              "      <td>0.195301</td>\n",
              "      <td>0.252001</td>\n",
              "      <td>0.006300</td>\n",
              "      <td>0.000000</td>\n",
              "      <td>0.0</td>\n",
              "      <td>0.0</td>\n",
              "    </tr>\n",
              "  </tbody>\n",
              "</table>\n",
              "</div>\n",
              "    <div class=\"colab-df-buttons\">\n",
              "\n",
              "  <div class=\"colab-df-container\">\n",
              "    <button class=\"colab-df-convert\" onclick=\"convertToInteractive('df-959fafc3-cd7f-4a3d-8cef-109c1972927b')\"\n",
              "            title=\"Convert this dataframe to an interactive table.\"\n",
              "            style=\"display:none;\">\n",
              "\n",
              "  <svg xmlns=\"http://www.w3.org/2000/svg\" height=\"24px\" viewBox=\"0 -960 960 960\">\n",
              "    <path d=\"M120-120v-720h720v720H120Zm60-500h600v-160H180v160Zm220 220h160v-160H400v160Zm0 220h160v-160H400v160ZM180-400h160v-160H180v160Zm440 0h160v-160H620v160ZM180-180h160v-160H180v160Zm440 0h160v-160H620v160Z\"/>\n",
              "  </svg>\n",
              "    </button>\n",
              "\n",
              "  <style>\n",
              "    .colab-df-container {\n",
              "      display:flex;\n",
              "      gap: 12px;\n",
              "    }\n",
              "\n",
              "    .colab-df-convert {\n",
              "      background-color: #E8F0FE;\n",
              "      border: none;\n",
              "      border-radius: 50%;\n",
              "      cursor: pointer;\n",
              "      display: none;\n",
              "      fill: #1967D2;\n",
              "      height: 32px;\n",
              "      padding: 0 0 0 0;\n",
              "      width: 32px;\n",
              "    }\n",
              "\n",
              "    .colab-df-convert:hover {\n",
              "      background-color: #E2EBFA;\n",
              "      box-shadow: 0px 1px 2px rgba(60, 64, 67, 0.3), 0px 1px 3px 1px rgba(60, 64, 67, 0.15);\n",
              "      fill: #174EA6;\n",
              "    }\n",
              "\n",
              "    .colab-df-buttons div {\n",
              "      margin-bottom: 4px;\n",
              "    }\n",
              "\n",
              "    [theme=dark] .colab-df-convert {\n",
              "      background-color: #3B4455;\n",
              "      fill: #D2E3FC;\n",
              "    }\n",
              "\n",
              "    [theme=dark] .colab-df-convert:hover {\n",
              "      background-color: #434B5C;\n",
              "      box-shadow: 0px 1px 3px 1px rgba(0, 0, 0, 0.15);\n",
              "      filter: drop-shadow(0px 1px 2px rgba(0, 0, 0, 0.3));\n",
              "      fill: #FFFFFF;\n",
              "    }\n",
              "  </style>\n",
              "\n",
              "    <script>\n",
              "      const buttonEl =\n",
              "        document.querySelector('#df-959fafc3-cd7f-4a3d-8cef-109c1972927b button.colab-df-convert');\n",
              "      buttonEl.style.display =\n",
              "        google.colab.kernel.accessAllowed ? 'block' : 'none';\n",
              "\n",
              "      async function convertToInteractive(key) {\n",
              "        const element = document.querySelector('#df-959fafc3-cd7f-4a3d-8cef-109c1972927b');\n",
              "        const dataTable =\n",
              "          await google.colab.kernel.invokeFunction('convertToInteractive',\n",
              "                                                    [key], {});\n",
              "        if (!dataTable) return;\n",
              "\n",
              "        const docLinkHtml = 'Like what you see? Visit the ' +\n",
              "          '<a target=\"_blank\" href=https://colab.research.google.com/notebooks/data_table.ipynb>data table notebook</a>'\n",
              "          + ' to learn more about interactive tables.';\n",
              "        element.innerHTML = '';\n",
              "        dataTable['output_type'] = 'display_data';\n",
              "        await google.colab.output.renderOutput(dataTable, element);\n",
              "        const docLink = document.createElement('div');\n",
              "        docLink.innerHTML = docLinkHtml;\n",
              "        element.appendChild(docLink);\n",
              "      }\n",
              "    </script>\n",
              "  </div>\n",
              "\n",
              "\n",
              "<div id=\"df-45b4a39f-5c4d-4113-98f8-2d0b1dcc9272\">\n",
              "  <button class=\"colab-df-quickchart\" onclick=\"quickchart('df-45b4a39f-5c4d-4113-98f8-2d0b1dcc9272')\"\n",
              "            title=\"Suggest charts\"\n",
              "            style=\"display:none;\">\n",
              "\n",
              "<svg xmlns=\"http://www.w3.org/2000/svg\" height=\"24px\"viewBox=\"0 0 24 24\"\n",
              "     width=\"24px\">\n",
              "    <g>\n",
              "        <path d=\"M19 3H5c-1.1 0-2 .9-2 2v14c0 1.1.9 2 2 2h14c1.1 0 2-.9 2-2V5c0-1.1-.9-2-2-2zM9 17H7v-7h2v7zm4 0h-2V7h2v10zm4 0h-2v-4h2v4z\"/>\n",
              "    </g>\n",
              "</svg>\n",
              "  </button>\n",
              "\n",
              "<style>\n",
              "  .colab-df-quickchart {\n",
              "      --bg-color: #E8F0FE;\n",
              "      --fill-color: #1967D2;\n",
              "      --hover-bg-color: #E2EBFA;\n",
              "      --hover-fill-color: #174EA6;\n",
              "      --disabled-fill-color: #AAA;\n",
              "      --disabled-bg-color: #DDD;\n",
              "  }\n",
              "\n",
              "  [theme=dark] .colab-df-quickchart {\n",
              "      --bg-color: #3B4455;\n",
              "      --fill-color: #D2E3FC;\n",
              "      --hover-bg-color: #434B5C;\n",
              "      --hover-fill-color: #FFFFFF;\n",
              "      --disabled-bg-color: #3B4455;\n",
              "      --disabled-fill-color: #666;\n",
              "  }\n",
              "\n",
              "  .colab-df-quickchart {\n",
              "    background-color: var(--bg-color);\n",
              "    border: none;\n",
              "    border-radius: 50%;\n",
              "    cursor: pointer;\n",
              "    display: none;\n",
              "    fill: var(--fill-color);\n",
              "    height: 32px;\n",
              "    padding: 0;\n",
              "    width: 32px;\n",
              "  }\n",
              "\n",
              "  .colab-df-quickchart:hover {\n",
              "    background-color: var(--hover-bg-color);\n",
              "    box-shadow: 0 1px 2px rgba(60, 64, 67, 0.3), 0 1px 3px 1px rgba(60, 64, 67, 0.15);\n",
              "    fill: var(--button-hover-fill-color);\n",
              "  }\n",
              "\n",
              "  .colab-df-quickchart-complete:disabled,\n",
              "  .colab-df-quickchart-complete:disabled:hover {\n",
              "    background-color: var(--disabled-bg-color);\n",
              "    fill: var(--disabled-fill-color);\n",
              "    box-shadow: none;\n",
              "  }\n",
              "\n",
              "  .colab-df-spinner {\n",
              "    border: 2px solid var(--fill-color);\n",
              "    border-color: transparent;\n",
              "    border-bottom-color: var(--fill-color);\n",
              "    animation:\n",
              "      spin 1s steps(1) infinite;\n",
              "  }\n",
              "\n",
              "  @keyframes spin {\n",
              "    0% {\n",
              "      border-color: transparent;\n",
              "      border-bottom-color: var(--fill-color);\n",
              "      border-left-color: var(--fill-color);\n",
              "    }\n",
              "    20% {\n",
              "      border-color: transparent;\n",
              "      border-left-color: var(--fill-color);\n",
              "      border-top-color: var(--fill-color);\n",
              "    }\n",
              "    30% {\n",
              "      border-color: transparent;\n",
              "      border-left-color: var(--fill-color);\n",
              "      border-top-color: var(--fill-color);\n",
              "      border-right-color: var(--fill-color);\n",
              "    }\n",
              "    40% {\n",
              "      border-color: transparent;\n",
              "      border-right-color: var(--fill-color);\n",
              "      border-top-color: var(--fill-color);\n",
              "    }\n",
              "    60% {\n",
              "      border-color: transparent;\n",
              "      border-right-color: var(--fill-color);\n",
              "    }\n",
              "    80% {\n",
              "      border-color: transparent;\n",
              "      border-right-color: var(--fill-color);\n",
              "      border-bottom-color: var(--fill-color);\n",
              "    }\n",
              "    90% {\n",
              "      border-color: transparent;\n",
              "      border-bottom-color: var(--fill-color);\n",
              "    }\n",
              "  }\n",
              "</style>\n",
              "\n",
              "  <script>\n",
              "    async function quickchart(key) {\n",
              "      const quickchartButtonEl =\n",
              "        document.querySelector('#' + key + ' button');\n",
              "      quickchartButtonEl.disabled = true;  // To prevent multiple clicks.\n",
              "      quickchartButtonEl.classList.add('colab-df-spinner');\n",
              "      try {\n",
              "        const charts = await google.colab.kernel.invokeFunction(\n",
              "            'suggestCharts', [key], {});\n",
              "      } catch (error) {\n",
              "        console.error('Error during call to suggestCharts:', error);\n",
              "      }\n",
              "      quickchartButtonEl.classList.remove('colab-df-spinner');\n",
              "      quickchartButtonEl.classList.add('colab-df-quickchart-complete');\n",
              "    }\n",
              "    (() => {\n",
              "      let quickchartButtonEl =\n",
              "        document.querySelector('#df-45b4a39f-5c4d-4113-98f8-2d0b1dcc9272 button');\n",
              "      quickchartButtonEl.style.display =\n",
              "        google.colab.kernel.accessAllowed ? 'block' : 'none';\n",
              "    })();\n",
              "  </script>\n",
              "</div>\n",
              "\n",
              "    </div>\n",
              "  </div>\n"
            ],
            "application/vnd.google.colaboratory.intrinsic+json": {
              "type": "dataframe",
              "variable_name": "corpus",
              "summary": "{\n  \"name\": \"corpus\",\n  \"rows\": 1001,\n  \"fields\": [\n    {\n      \"column\": \"class\",\n      \"properties\": {\n        \"dtype\": \"number\",\n        \"std\": 0,\n        \"min\": 0,\n        \"max\": 1,\n        \"num_unique_values\": 2,\n        \"samples\": [\n          1,\n          0\n        ],\n        \"semantic_type\": \"\",\n        \"description\": \"\"\n      }\n    },\n    {\n      \"column\": \"text\",\n      \"properties\": {\n        \"dtype\": \"string\",\n        \"num_unique_values\": 979,\n        \"samples\": [\n          \"Hello darlin ive finished college now so txt me when u finish if u can love Kate xxx\",\n          \"Sure, if I get an acknowledgement from you that it's astoundingly tactless and generally faggy to demand a blood oath fo\"\n        ],\n        \"semantic_type\": \"\",\n        \"description\": \"\"\n      }\n    },\n    {\n      \"column\": \"num_digits\",\n      \"properties\": {\n        \"dtype\": \"number\",\n        \"std\": 0,\n        \"min\": 0,\n        \"max\": 5,\n        \"num_unique_values\": 6,\n        \"samples\": [\n          0,\n          2\n        ],\n        \"semantic_type\": \"\",\n        \"description\": \"\"\n      }\n    },\n    {\n      \"column\": \"phone_count\",\n      \"properties\": {\n        \"dtype\": \"number\",\n        \"std\": 0,\n        \"min\": 0,\n        \"max\": 2,\n        \"num_unique_values\": 3,\n        \"samples\": [\n          0,\n          1\n        ],\n        \"semantic_type\": \"\",\n        \"description\": \"\"\n      }\n    },\n    {\n      \"column\": \"email_count\",\n      \"properties\": {\n        \"dtype\": \"number\",\n        \"std\": 0,\n        \"min\": 0,\n        \"max\": 0,\n        \"num_unique_values\": 1,\n        \"samples\": [\n          0\n        ],\n        \"semantic_type\": \"\",\n        \"description\": \"\"\n      }\n    },\n    {\n      \"column\": \"url_count\",\n      \"properties\": {\n        \"dtype\": \"number\",\n        \"std\": 0,\n        \"min\": 0,\n        \"max\": 1,\n        \"num_unique_values\": 2,\n        \"samples\": [\n          1\n        ],\n        \"semantic_type\": \"\",\n        \"description\": \"\"\n      }\n    },\n    {\n      \"column\": \"char_count\",\n      \"properties\": {\n        \"dtype\": \"number\",\n        \"std\": 55,\n        \"min\": 3,\n        \"max\": 384,\n        \"num_unique_values\": 189,\n        \"samples\": [\n          276\n        ],\n        \"semantic_type\": \"\",\n        \"description\": \"\"\n      }\n    },\n    {\n      \"column\": \"unique_char_count\",\n      \"properties\": {\n        \"dtype\": \"number\",\n        \"std\": 9,\n        \"min\": 3,\n        \"max\": 53,\n        \"num_unique_values\": 49,\n        \"samples\": [\n          26\n        ],\n        \"semantic_type\": \"\",\n        \"description\": \"\"\n      }\n    },\n    {\n      \"column\": \"text_with_replacements\",\n      \"properties\": {\n        \"dtype\": \"string\",\n        \"num_unique_values\": 979,\n        \"samples\": [\n          \"Hello darlin ive finished college now so txt me when u finish if u can love Kate xxx\"\n        ],\n        \"semantic_type\": \"\",\n        \"description\": \"\"\n      }\n    },\n    {\n      \"column\": \"word_count\",\n      \"properties\": {\n        \"dtype\": \"number\",\n        \"std\": 10,\n        \"min\": 1,\n        \"max\": 80,\n        \"num_unique_values\": 51,\n        \"samples\": [\n          43\n        ],\n        \"semantic_type\": \"\",\n        \"description\": \"\"\n      }\n    },\n    {\n      \"column\": \"unique_word_count\",\n      \"properties\": {\n        \"dtype\": \"number\",\n        \"std\": 9,\n        \"min\": 1,\n        \"max\": 62,\n        \"num_unique_values\": 47,\n        \"samples\": [\n          36\n        ],\n        \"semantic_type\": \"\",\n        \"description\": \"\"\n      }\n    },\n    {\n      \"column\": \"scaled_word_count\",\n      \"properties\": {\n        \"dtype\": \"number\",\n        \"std\": 0.027596241252068048,\n        \"min\": 0.0710220824228435,\n        \"max\": 0.26977806394251297,\n        \"num_unique_values\": 889,\n        \"samples\": [\n          0.19580863186988332\n        ],\n        \"semantic_type\": \"\",\n        \"description\": \"\"\n      }\n    },\n    {\n      \"column\": \"scaled_char_count\",\n      \"properties\": {\n        \"dtype\": \"number\",\n        \"std\": 0.047749853589843204,\n        \"min\": 0.6708203932499369,\n        \"max\": 0.9716080627856999,\n        \"num_unique_values\": 884,\n        \"samples\": [\n          0.9195554162209251\n        ],\n        \"semantic_type\": \"\",\n        \"description\": \"\"\n      }\n    },\n    {\n      \"column\": \"scaled_unique_word_count\",\n      \"properties\": {\n        \"dtype\": \"number\",\n        \"std\": 0.026122368505133782,\n        \"min\": 0.0710220824228435,\n        \"max\": 0.24280025754826165,\n        \"num_unique_values\": 888,\n        \"samples\": [\n          0.1483398726286995\n        ],\n        \"semantic_type\": \"\",\n        \"description\": \"\"\n      }\n    },\n    {\n      \"column\": \"scaled_unique_char_count\",\n      \"properties\": {\n        \"dtype\": \"number\",\n        \"std\": 0.11614460854932067,\n        \"min\": 0.07788625129260121,\n        \"max\": 0.6859943405700353,\n        \"num_unique_values\": 896,\n        \"samples\": [\n          0.343093007352081\n        ],\n        \"semantic_type\": \"\",\n        \"description\": \"\"\n      }\n    },\n    {\n      \"column\": \"scaled_num_digits\",\n      \"properties\": {\n        \"dtype\": \"number\",\n        \"std\": 0.006901949302250272,\n        \"min\": 0.0,\n        \"max\": 0.04639051998342825,\n        \"num_unique_values\": 192,\n        \"samples\": [\n          0.01221534925163832\n        ],\n        \"semantic_type\": \"\",\n        \"description\": \"\"\n      }\n    },\n    {\n      \"column\": \"scaled_phone_count\",\n      \"properties\": {\n        \"dtype\": \"number\",\n        \"std\": 0.0024919815399486655,\n        \"min\": 0.0,\n        \"max\": 0.023433924539650597,\n        \"num_unique_values\": 92,\n        \"samples\": [\n          0.006459145122831827\n        ],\n        \"semantic_type\": \"\",\n        \"description\": \"\"\n      }\n    },\n    {\n      \"column\": \"scaled_email_count\",\n      \"properties\": {\n        \"dtype\": \"number\",\n        \"std\": 0.0,\n        \"min\": 0.0,\n        \"max\": 0.0,\n        \"num_unique_values\": 1,\n        \"samples\": [\n          0.0\n        ],\n        \"semantic_type\": \"\",\n        \"description\": \"\"\n      }\n    },\n    {\n      \"column\": \"scaled_url_count\",\n      \"properties\": {\n        \"dtype\": \"number\",\n        \"std\": 0.0004392437839279755,\n        \"min\": 0.0,\n        \"max\": 0.010529816587460657,\n        \"num_unique_values\": 4,\n        \"samples\": [\n          0.010529816587460657\n        ],\n        \"semantic_type\": \"\",\n        \"description\": \"\"\n      }\n    }\n  ]\n}"
            }
          },
          "metadata": {},
          "execution_count": 28
        }
      ],
      "source": [
        "corpus.head()"
      ]
    },
    {
      "cell_type": "markdown",
      "metadata": {
        "id": "bORLm9C2U5lb"
      },
      "source": [
        "# Data Exploration"
      ]
    },
    {
      "cell_type": "markdown",
      "source": [
        "## Important Functions"
      ],
      "metadata": {
        "id": "5T0CNwDcTF6Y"
      }
    },
    {
      "cell_type": "code",
      "source": [
        "def plot_freqs(col, xlabel, ylabel, title):\n",
        "  plt.figure(figsize=(15, 5))\n",
        "  plt.hist(corpus[corpus['class']==0][col],\\\n",
        "          bins=50,\\\n",
        "          label='Ham',\\\n",
        "          alpha=0.5)\n",
        "  plt.hist(corpus[corpus['class']==1][col],\\\n",
        "          bins=50,\\\n",
        "          label='Spam',\\\n",
        "          alpha=0.5)\n",
        "  plt.legend()\n",
        "  plt.xlabel(xlabel)\n",
        "  plt.ylabel(ylabel)\n",
        "  plt.title(title)\n",
        "  plt.show()"
      ],
      "metadata": {
        "id": "4d4dvt4tTRh5"
      },
      "execution_count": 29,
      "outputs": []
    },
    {
      "cell_type": "markdown",
      "source": [
        "## Plots, Charts, Diagrams"
      ],
      "metadata": {
        "id": "TcOr66nkTJHZ"
      }
    },
    {
      "cell_type": "code",
      "execution_count": 30,
      "metadata": {
        "colab": {
          "base_uri": "https://localhost:8080/",
          "height": 0
        },
        "id": "yhpU0Vg-VFhF",
        "outputId": "773bf632-ea9b-4f90-f4ae-40f58a2a71e4"
      },
      "outputs": [
        {
          "output_type": "execute_result",
          "data": {
            "text/plain": [
              "<Axes: xlabel='class'>"
            ]
          },
          "metadata": {},
          "execution_count": 30
        },
        {
          "output_type": "display_data",
          "data": {
            "text/plain": [
              "<Figure size 640x480 with 1 Axes>"
            ],
            "image/png": "[encoded data removed]"
          },
          "metadata": {}
        }
      ],
      "source": [
        "corpus_counts.plot.bar()"
      ]
    },
    {
      "cell_type": "code",
      "source": [
        "# frequency plot of lengths in characters\n",
        "plot_freqs(\"char_count\", 'Length in Characters', 'Number of Messages', \"Text Length Fequencies (in Characters)\")"
      ],
      "metadata": {
        "colab": {
          "base_uri": "https://localhost:8080/",
          "height": 0
        },
        "id": "LMk4P6J8JNgo",
        "outputId": "011f56c7-78a2-4331-a547-94e858cc640a"
      },
      "execution_count": 31,
      "outputs": [
        {
          "output_type": "display_data",
          "data": {
            "text/plain": [
              "<Figure size 1500x500 with 1 Axes>"
            ],
            "image/png": "[encoded data removed]"
          },
          "metadata": {}
        }
      ]
    },
    {
      "cell_type": "code",
      "source": [
        "# frequency plot of lengths\n",
        "plot_freqs(\"word_count\", 'Length in Words', 'Number of Messages', \"Text Length Fequencies (in Words)\")"
      ],
      "metadata": {
        "colab": {
          "base_uri": "https://localhost:8080/",
          "height": 0
        },
        "id": "ibxTCqRoLzig",
        "outputId": "64a4047d-a0cc-4ba6-8194-e9de64639dad"
      },
      "execution_count": 32,
      "outputs": [
        {
          "output_type": "display_data",
          "data": {
            "text/plain": [
              "<Figure size 1500x500 with 1 Axes>"
            ],
            "image/png": "[encoded data removed]"
          },
          "metadata": {}
        }
      ]
    },
    {
      "cell_type": "code",
      "source": [
        "# frequency plot of lengths\n",
        "plot_freqs(\"phone_count\", \"Phone Number Count\", 'Number of Messages', \"Number of Phone Numbers in Messages\")"
      ],
      "metadata": {
        "colab": {
          "base_uri": "https://localhost:8080/",
          "height": 0
        },
        "id": "XircTcUcUGn8",
        "outputId": "6ce7ea3b-7f88-45aa-af27-1c1476955070"
      },
      "execution_count": 33,
      "outputs": [
        {
          "output_type": "display_data",
          "data": {
            "text/plain": [
              "<Figure size 1500x500 with 1 Axes>"
            ],
            "image/png": "[encoded data removed]"
          },
          "metadata": {}
        }
      ]
    },
    {
      "cell_type": "code",
      "source": [
        "# frequency plot of lengths\n",
        "plot_freqs(\"email_count\", \"Email Count\", 'Number of Messages', \"Number of Emails in Messages\")"
      ],
      "metadata": {
        "colab": {
          "base_uri": "https://localhost:8080/",
          "height": 0
        },
        "id": "YJ8mwBkpWy9A",
        "outputId": "5a0ff5dd-0914-467a-da10-f7e4784b1524"
      },
      "execution_count": 34,
      "outputs": [
        {
          "output_type": "display_data",
          "data": {
            "text/plain": [
              "<Figure size 1500x500 with 1 Axes>"
            ],
            "image/png": "[encoded data removed]"
          },
          "metadata": {}
        }
      ]
    },
    {
      "cell_type": "code",
      "source": [
        "# frequency plot of lengths\n",
        "plot_freqs(\"url_count\", \"URL Count\", 'Number of Messages', \"Number of URLs in Messages\")"
      ],
      "metadata": {
        "colab": {
          "base_uri": "https://localhost:8080/",
          "height": 0
        },
        "id": "-Ie96CNaW0uB",
        "outputId": "f626e79d-92d5-40ae-b7df-4767721a7484"
      },
      "execution_count": 35,
      "outputs": [
        {
          "output_type": "display_data",
          "data": {
            "text/plain": [
              "<Figure size 1500x500 with 1 Axes>"
            ],
            "image/png": "[encoded data removed]"
          },
          "metadata": {}
        }
      ]
    },
    {
      "cell_type": "markdown",
      "source": [
        "# Embed the text in vector spaces"
      ],
      "metadata": {
        "id": "iU4tR4idSlsY"
      }
    },
    {
      "cell_type": "markdown",
      "metadata": {
        "id": "W2P9yMLlyzA0"
      },
      "source": [
        "## Vectorize Corpus"
      ]
    },
    {
      "cell_type": "code",
      "execution_count": 36,
      "metadata": {
        "id": "X3MIids_CBio"
      },
      "outputs": [],
      "source": [
        "# Function to extract the number from the topic string\n",
        "def extract_number(topic):\n",
        "    return int(topic.split()[1])"
      ]
    },
    {
      "cell_type": "code",
      "execution_count": 37,
      "metadata": {
        "id": "SeVIj2rgy458"
      },
      "outputs": [],
      "source": [
        "# TF-IDF vectorizer\n",
        "vec.fit(corpus[\"text_with_replacements\"])\n",
        "corpus_tfidf_vects = vec.transform(corpus[\"text_with_replacements\"])\n",
        "\n",
        "# BERTopic topic vectorizer\n",
        "bertopic_topics, bertopic_probs = topic_model.fit_transform(corpus[\"text_with_replacements\"])\n",
        "\n",
        "# BERT sentence embedder\n",
        "bert_embeddings = sentence_embedder.encode(corpus[\"text_with_replacements\"])"
      ]
    },
    {
      "cell_type": "code",
      "execution_count": 38,
      "metadata": {
        "colab": {
          "base_uri": "https://localhost:8080/",
          "height": 261
        },
        "id": "-mnKThW-1zup",
        "outputId": "f31beb7d-44d9-4057-b2ec-6c4f777d0b72"
      },
      "outputs": [
        {
          "output_type": "execute_result",
          "data": {
            "text/plain": [
              "   Topic 0 Probability  Topic 1 Probability  Topic 2 Probability  \\\n",
              "0             0.030035             0.055843             0.028499   \n",
              "1             0.033699             0.023089             0.040007   \n",
              "2             0.036769             0.048817             0.027763   \n",
              "3             0.031080             0.041964             0.030478   \n",
              "4             0.028881             0.027395             0.132607   \n",
              "\n",
              "   Topic 3 Probability  Topic 4 Probability  Topic 5 Probability  \\\n",
              "0             0.018096             0.039467             0.020604   \n",
              "1             0.353627             0.014021             0.051440   \n",
              "2             0.021112             0.060450             0.022421   \n",
              "3             0.019246             0.034806             0.022984   \n",
              "4             0.033764             0.012291             0.036774   \n",
              "\n",
              "   Topic 6 Probability  Topic 7 Probability  Topic 8 Probability  \\\n",
              "0             0.018586             0.067923             0.338212   \n",
              "1             0.045699             0.016692             0.015854   \n",
              "2             0.019864             0.048097             0.070805   \n",
              "3             0.019738             0.417904             0.072077   \n",
              "4             0.032151             0.016805             0.015813   \n",
              "\n",
              "   Topic 9 Probability  Topic 10 Probability  Topic 11 Probability  \\\n",
              "0             0.106573              0.052211              0.042424   \n",
              "1             0.020304              0.013267              0.012257   \n",
              "2             0.085355              0.050128              0.109210   \n",
              "3             0.065664              0.036266              0.029986   \n",
              "4             0.019659              0.012193              0.010487   \n",
              "\n",
              "   Topic 12 Probability  Topic 13 Probability  Topic 14 Probability  \\\n",
              "0              0.039970              0.042048              0.051698   \n",
              "1              0.017474              0.016317              0.017009   \n",
              "2              0.084966              0.041453              0.111117   \n",
              "3              0.031687              0.055439              0.055589   \n",
              "4              0.014878              0.015231              0.015243   \n",
              "\n",
              "   Assigned Topic  Predicted Topic  Predicted Topic Probability  \n",
              "0               8                8                     0.338212  \n",
              "1               3                3                     0.353627  \n",
              "2              -1               14                     0.111117  \n",
              "3               7                7                     0.417904  \n",
              "4               2                2                     0.132607  "
            ],
            "text/html": [
              "\n",
              "  <div id=\"df-98b3ec66-ccab-4fe2-b7cd-c065bdceb02e\" class=\"colab-df-container\">\n",
              "    <div>\n",
              "<style scoped>\n",
              "    .dataframe tbody tr th:only-of-type {\n",
              "        vertical-align: middle;\n",
              "    }\n",
              "\n",
              "    .dataframe tbody tr th {\n",
              "        vertical-align: top;\n",
              "    }\n",
              "\n",
              "    .dataframe thead th {\n",
              "        text-align: right;\n",
              "    }\n",
              "</style>\n",
              "<table border=\"1\" class=\"dataframe\">\n",
              "  <thead>\n",
              "    <tr style=\"text-align: right;\">\n",
              "      <th></th>\n",
              "      <th>Topic 0 Probability</th>\n",
              "      <th>Topic 1 Probability</th>\n",
              "      <th>Topic 2 Probability</th>\n",
              "      <th>Topic 3 Probability</th>\n",
              "      <th>Topic 4 Probability</th>\n",
              "      <th>Topic 5 Probability</th>\n",
              "      <th>Topic 6 Probability</th>\n",
              "      <th>Topic 7 Probability</th>\n",
              "      <th>Topic 8 Probability</th>\n",
              "      <th>Topic 9 Probability</th>\n",
              "      <th>Topic 10 Probability</th>\n",
              "      <th>Topic 11 Probability</th>\n",
              "      <th>Topic 12 Probability</th>\n",
              "      <th>Topic 13 Probability</th>\n",
              "      <th>Topic 14 Probability</th>\n",
              "      <th>Assigned Topic</th>\n",
              "      <th>Predicted Topic</th>\n",
              "      <th>Predicted Topic Probability</th>\n",
              "    </tr>\n",
              "  </thead>\n",
              "  <tbody>\n",
              "    <tr>\n",
              "      <th>0</th>\n",
              "      <td>0.030035</td>\n",
              "      <td>0.055843</td>\n",
              "      <td>0.028499</td>\n",
              "      <td>0.018096</td>\n",
              "      <td>0.039467</td>\n",
              "      <td>0.020604</td>\n",
              "      <td>0.018586</td>\n",
              "      <td>0.067923</td>\n",
              "      <td>0.338212</td>\n",
              "      <td>0.106573</td>\n",
              "      <td>0.052211</td>\n",
              "      <td>0.042424</td>\n",
              "      <td>0.039970</td>\n",
              "      <td>0.042048</td>\n",
              "      <td>0.051698</td>\n",
              "      <td>8</td>\n",
              "      <td>8</td>\n",
              "      <td>0.338212</td>\n",
              "    </tr>\n",
              "    <tr>\n",
              "      <th>1</th>\n",
              "      <td>0.033699</td>\n",
              "      <td>0.023089</td>\n",
              "      <td>0.040007</td>\n",
              "      <td>0.353627</td>\n",
              "      <td>0.014021</td>\n",
              "      <td>0.051440</td>\n",
              "      <td>0.045699</td>\n",
              "      <td>0.016692</td>\n",
              "      <td>0.015854</td>\n",
              "      <td>0.020304</td>\n",
              "      <td>0.013267</td>\n",
              "      <td>0.012257</td>\n",
              "      <td>0.017474</td>\n",
              "      <td>0.016317</td>\n",
              "      <td>0.017009</td>\n",
              "      <td>3</td>\n",
              "      <td>3</td>\n",
              "      <td>0.353627</td>\n",
              "    </tr>\n",
              "    <tr>\n",
              "      <th>2</th>\n",
              "      <td>0.036769</td>\n",
              "      <td>0.048817</td>\n",
              "      <td>0.027763</td>\n",
              "      <td>0.021112</td>\n",
              "      <td>0.060450</td>\n",
              "      <td>0.022421</td>\n",
              "      <td>0.019864</td>\n",
              "      <td>0.048097</td>\n",
              "      <td>0.070805</td>\n",
              "      <td>0.085355</td>\n",
              "      <td>0.050128</td>\n",
              "      <td>0.109210</td>\n",
              "      <td>0.084966</td>\n",
              "      <td>0.041453</td>\n",
              "      <td>0.111117</td>\n",
              "      <td>-1</td>\n",
              "      <td>14</td>\n",
              "      <td>0.111117</td>\n",
              "    </tr>\n",
              "    <tr>\n",
              "      <th>3</th>\n",
              "      <td>0.031080</td>\n",
              "      <td>0.041964</td>\n",
              "      <td>0.030478</td>\n",
              "      <td>0.019246</td>\n",
              "      <td>0.034806</td>\n",
              "      <td>0.022984</td>\n",
              "      <td>0.019738</td>\n",
              "      <td>0.417904</td>\n",
              "      <td>0.072077</td>\n",
              "      <td>0.065664</td>\n",
              "      <td>0.036266</td>\n",
              "      <td>0.029986</td>\n",
              "      <td>0.031687</td>\n",
              "      <td>0.055439</td>\n",
              "      <td>0.055589</td>\n",
              "      <td>7</td>\n",
              "      <td>7</td>\n",
              "      <td>0.417904</td>\n",
              "    </tr>\n",
              "    <tr>\n",
              "      <th>4</th>\n",
              "      <td>0.028881</td>\n",
              "      <td>0.027395</td>\n",
              "      <td>0.132607</td>\n",
              "      <td>0.033764</td>\n",
              "      <td>0.012291</td>\n",
              "      <td>0.036774</td>\n",
              "      <td>0.032151</td>\n",
              "      <td>0.016805</td>\n",
              "      <td>0.015813</td>\n",
              "      <td>0.019659</td>\n",
              "      <td>0.012193</td>\n",
              "      <td>0.010487</td>\n",
              "      <td>0.014878</td>\n",
              "      <td>0.015231</td>\n",
              "      <td>0.015243</td>\n",
              "      <td>2</td>\n",
              "      <td>2</td>\n",
              "      <td>0.132607</td>\n",
              "    </tr>\n",
              "  </tbody>\n",
              "</table>\n",
              "</div>\n",
              "    <div class=\"colab-df-buttons\">\n",
              "\n",
              "  <div class=\"colab-df-container\">\n",
              "    <button class=\"colab-df-convert\" onclick=\"convertToInteractive('df-98b3ec66-ccab-4fe2-b7cd-c065bdceb02e')\"\n",
              "            title=\"Convert this dataframe to an interactive table.\"\n",
              "            style=\"display:none;\">\n",
              "\n",
              "  <svg xmlns=\"http://www.w3.org/2000/svg\" height=\"24px\" viewBox=\"0 -960 960 960\">\n",
              "    <path d=\"M120-120v-720h720v720H120Zm60-500h600v-160H180v160Zm220 220h160v-160H400v160Zm0 220h160v-160H400v160ZM180-400h160v-160H180v160Zm440 0h160v-160H620v160ZM180-180h160v-160H180v160Zm440 0h160v-160H620v160Z\"/>\n",
              "  </svg>\n",
              "    </button>\n",
              "\n",
              "  <style>\n",
              "    .colab-df-container {\n",
              "      display:flex;\n",
              "      gap: 12px;\n",
              "    }\n",
              "\n",
              "    .colab-df-convert {\n",
              "      background-color: #E8F0FE;\n",
              "      border: none;\n",
              "      border-radius: 50%;\n",
              "      cursor: pointer;\n",
              "      display: none;\n",
              "      fill: #1967D2;\n",
              "      height: 32px;\n",
              "      padding: 0 0 0 0;\n",
              "      width: 32px;\n",
              "    }\n",
              "\n",
              "    .colab-df-convert:hover {\n",
              "      background-color: #E2EBFA;\n",
              "      box-shadow: 0px 1px 2px rgba(60, 64, 67, 0.3), 0px 1px 3px 1px rgba(60, 64, 67, 0.15);\n",
              "      fill: #174EA6;\n",
              "    }\n",
              "\n",
              "    .colab-df-buttons div {\n",
              "      margin-bottom: 4px;\n",
              "    }\n",
              "\n",
              "    [theme=dark] .colab-df-convert {\n",
              "      background-color: #3B4455;\n",
              "      fill: #D2E3FC;\n",
              "    }\n",
              "\n",
              "    [theme=dark] .colab-df-convert:hover {\n",
              "      background-color: #434B5C;\n",
              "      box-shadow: 0px 1px 3px 1px rgba(0, 0, 0, 0.15);\n",
              "      filter: drop-shadow(0px 1px 2px rgba(0, 0, 0, 0.3));\n",
              "      fill: #FFFFFF;\n",
              "    }\n",
              "  </style>\n",
              "\n",
              "    <script>\n",
              "      const buttonEl =\n",
              "        document.querySelector('#df-98b3ec66-ccab-4fe2-b7cd-c065bdceb02e button.colab-df-convert');\n",
              "      buttonEl.style.display =\n",
              "        google.colab.kernel.accessAllowed ? 'block' : 'none';\n",
              "\n",
              "      async function convertToInteractive(key) {\n",
              "        const element = document.querySelector('#df-98b3ec66-ccab-4fe2-b7cd-c065bdceb02e');\n",
              "        const dataTable =\n",
              "          await google.colab.kernel.invokeFunction('convertToInteractive',\n",
              "                                                    [key], {});\n",
              "        if (!dataTable) return;\n",
              "\n",
              "        const docLinkHtml = 'Like what you see? Visit the ' +\n",
              "          '<a target=\"_blank\" href=https://colab.research.google.com/notebooks/data_table.ipynb>data table notebook</a>'\n",
              "          + ' to learn more about interactive tables.';\n",
              "        element.innerHTML = '';\n",
              "        dataTable['output_type'] = 'display_data';\n",
              "        await google.colab.output.renderOutput(dataTable, element);\n",
              "        const docLink = document.createElement('div');\n",
              "        docLink.innerHTML = docLinkHtml;\n",
              "        element.appendChild(docLink);\n",
              "      }\n",
              "    </script>\n",
              "  </div>\n",
              "\n",
              "\n",
              "<div id=\"df-108db1f3-372c-4812-a422-2f545178dffd\">\n",
              "  <button class=\"colab-df-quickchart\" onclick=\"quickchart('df-108db1f3-372c-4812-a422-2f545178dffd')\"\n",
              "            title=\"Suggest charts\"\n",
              "            style=\"display:none;\">\n",
              "\n",
              "<svg xmlns=\"http://www.w3.org/2000/svg\" height=\"24px\"viewBox=\"0 0 24 24\"\n",
              "     width=\"24px\">\n",
              "    <g>\n",
              "        <path d=\"M19 3H5c-1.1 0-2 .9-2 2v14c0 1.1.9 2 2 2h14c1.1 0 2-.9 2-2V5c0-1.1-.9-2-2-2zM9 17H7v-7h2v7zm4 0h-2V7h2v10zm4 0h-2v-4h2v4z\"/>\n",
              "    </g>\n",
              "</svg>\n",
              "  </button>\n",
              "\n",
              "<style>\n",
              "  .colab-df-quickchart {\n",
              "      --bg-color: #E8F0FE;\n",
              "      --fill-color: #1967D2;\n",
              "      --hover-bg-color: #E2EBFA;\n",
              "      --hover-fill-color: #174EA6;\n",
              "      --disabled-fill-color: #AAA;\n",
              "      --disabled-bg-color: #DDD;\n",
              "  }\n",
              "\n",
              "  [theme=dark] .colab-df-quickchart {\n",
              "      --bg-color: #3B4455;\n",
              "      --fill-color: #D2E3FC;\n",
              "      --hover-bg-color: #434B5C;\n",
              "      --hover-fill-color: #FFFFFF;\n",
              "      --disabled-bg-color: #3B4455;\n",
              "      --disabled-fill-color: #666;\n",
              "  }\n",
              "\n",
              "  .colab-df-quickchart {\n",
              "    background-color: var(--bg-color);\n",
              "    border: none;\n",
              "    border-radius: 50%;\n",
              "    cursor: pointer;\n",
              "    display: none;\n",
              "    fill: var(--fill-color);\n",
              "    height: 32px;\n",
              "    padding: 0;\n",
              "    width: 32px;\n",
              "  }\n",
              "\n",
              "  .colab-df-quickchart:hover {\n",
              "    background-color: var(--hover-bg-color);\n",
              "    box-shadow: 0 1px 2px rgba(60, 64, 67, 0.3), 0 1px 3px 1px rgba(60, 64, 67, 0.15);\n",
              "    fill: var(--button-hover-fill-color);\n",
              "  }\n",
              "\n",
              "  .colab-df-quickchart-complete:disabled,\n",
              "  .colab-df-quickchart-complete:disabled:hover {\n",
              "    background-color: var(--disabled-bg-color);\n",
              "    fill: var(--disabled-fill-color);\n",
              "    box-shadow: none;\n",
              "  }\n",
              "\n",
              "  .colab-df-spinner {\n",
              "    border: 2px solid var(--fill-color);\n",
              "    border-color: transparent;\n",
              "    border-bottom-color: var(--fill-color);\n",
              "    animation:\n",
              "      spin 1s steps(1) infinite;\n",
              "  }\n",
              "\n",
              "  @keyframes spin {\n",
              "    0% {\n",
              "      border-color: transparent;\n",
              "      border-bottom-color: var(--fill-color);\n",
              "      border-left-color: var(--fill-color);\n",
              "    }\n",
              "    20% {\n",
              "      border-color: transparent;\n",
              "      border-left-color: var(--fill-color);\n",
              "      border-top-color: var(--fill-color);\n",
              "    }\n",
              "    30% {\n",
              "      border-color: transparent;\n",
              "      border-left-color: var(--fill-color);\n",
              "      border-top-color: var(--fill-color);\n",
              "      border-right-color: var(--fill-color);\n",
              "    }\n",
              "    40% {\n",
              "      border-color: transparent;\n",
              "      border-right-color: var(--fill-color);\n",
              "      border-top-color: var(--fill-color);\n",
              "    }\n",
              "    60% {\n",
              "      border-color: transparent;\n",
              "      border-right-color: var(--fill-color);\n",
              "    }\n",
              "    80% {\n",
              "      border-color: transparent;\n",
              "      border-right-color: var(--fill-color);\n",
              "      border-bottom-color: var(--fill-color);\n",
              "    }\n",
              "    90% {\n",
              "      border-color: transparent;\n",
              "      border-bottom-color: var(--fill-color);\n",
              "    }\n",
              "  }\n",
              "</style>\n",
              "\n",
              "  <script>\n",
              "    async function quickchart(key) {\n",
              "      const quickchartButtonEl =\n",
              "        document.querySelector('#' + key + ' button');\n",
              "      quickchartButtonEl.disabled = true;  // To prevent multiple clicks.\n",
              "      quickchartButtonEl.classList.add('colab-df-spinner');\n",
              "      try {\n",
              "        const charts = await google.colab.kernel.invokeFunction(\n",
              "            'suggestCharts', [key], {});\n",
              "      } catch (error) {\n",
              "        console.error('Error during call to suggestCharts:', error);\n",
              "      }\n",
              "      quickchartButtonEl.classList.remove('colab-df-spinner');\n",
              "      quickchartButtonEl.classList.add('colab-df-quickchart-complete');\n",
              "    }\n",
              "    (() => {\n",
              "      let quickchartButtonEl =\n",
              "        document.querySelector('#df-108db1f3-372c-4812-a422-2f545178dffd button');\n",
              "      quickchartButtonEl.style.display =\n",
              "        google.colab.kernel.accessAllowed ? 'block' : 'none';\n",
              "    })();\n",
              "  </script>\n",
              "</div>\n",
              "\n",
              "    </div>\n",
              "  </div>\n"
            ],
            "application/vnd.google.colaboratory.intrinsic+json": {
              "type": "dataframe",
              "variable_name": "bertopic_topics_probs_df",
              "summary": "{\n  \"name\": \"bertopic_topics_probs_df\",\n  \"rows\": 1001,\n  \"fields\": [\n    {\n      \"column\": \"Topic 0 Probability\",\n      \"properties\": {\n        \"dtype\": \"number\",\n        \"std\": 0.10360240686061256,\n        \"min\": 1.7667915685930526e-308,\n        \"max\": 1.0,\n        \"num_unique_values\": 992,\n        \"samples\": [\n          0.03217995110720038,\n          0.04146071771903807,\n          0.03437093634037328\n        ],\n        \"semantic_type\": \"\",\n        \"description\": \"\"\n      }\n    },\n    {\n      \"column\": \"Topic 1 Probability\",\n      \"properties\": {\n        \"dtype\": \"number\",\n        \"std\": 0.10941132143139247,\n        \"min\": 1.9749575534836185e-308,\n        \"max\": 1.0,\n        \"num_unique_values\": 992,\n        \"samples\": [\n          0.04210675839001073,\n          0.020010326241651683,\n          0.038281628876998756\n        ],\n        \"semantic_type\": \"\",\n        \"description\": \"\"\n      }\n    },\n    {\n      \"column\": \"Topic 2 Probability\",\n      \"properties\": {\n        \"dtype\": \"number\",\n        \"std\": 0.10566517496796449,\n        \"min\": 1.5265938309796107e-308,\n        \"max\": 1.0,\n        \"num_unique_values\": 992,\n        \"samples\": [\n          0.02785463202752192,\n          0.050818101797069574,\n          0.028945671244397328\n        ],\n        \"semantic_type\": \"\",\n        \"description\": \"\"\n      }\n    },\n    {\n      \"column\": \"Topic 3 Probability\",\n      \"properties\": {\n        \"dtype\": \"number\",\n        \"std\": 0.12275402073333255,\n        \"min\": 1.2211701102793473e-308,\n        \"max\": 1.0,\n        \"num_unique_values\": 991,\n        \"samples\": [\n          0.01567220162928684,\n          0.1832408146435739,\n          0.585254141963974\n        ],\n        \"semantic_type\": \"\",\n        \"description\": \"\"\n      }\n    },\n    {\n      \"column\": \"Topic 4 Probability\",\n      \"properties\": {\n        \"dtype\": \"number\",\n        \"std\": 0.10713507905806721,\n        \"min\": 1.1705032633317773e-308,\n        \"max\": 1.0,\n        \"num_unique_values\": 992,\n        \"samples\": [\n          3.7689795828027367e-308,\n          0.05902198352867763,\n          0.044183793307431524\n        ],\n        \"semantic_type\": \"\",\n        \"description\": \"\"\n      }\n    },\n    {\n      \"column\": \"Topic 5 Probability\",\n      \"properties\": {\n        \"dtype\": \"number\",\n        \"std\": 0.11201522619687816,\n        \"min\": 1.2653978652321326e-308,\n        \"max\": 1.0,\n        \"num_unique_values\": 992,\n        \"samples\": [\n          2.050809299319215e-308,\n          0.05474088940311019,\n          0.02410656308875203\n        ],\n        \"semantic_type\": \"\",\n        \"description\": \"\"\n      }\n    },\n    {\n      \"column\": \"Topic 6 Probability\",\n      \"properties\": {\n        \"dtype\": \"number\",\n        \"std\": 0.10470397712359582,\n        \"min\": 1.158857962747452e-308,\n        \"max\": 1.0,\n        \"num_unique_values\": 992,\n        \"samples\": [\n          1.845899495078341e-308,\n          0.04632385128901248,\n          0.021348792694621224\n        ],\n        \"semantic_type\": \"\",\n        \"description\": \"\"\n      }\n    },\n    {\n      \"column\": \"Topic 7 Probability\",\n      \"properties\": {\n        \"dtype\": \"number\",\n        \"std\": 0.10909463734434788,\n        \"min\": 1.525652347965977e-308,\n        \"max\": 1.0,\n        \"num_unique_values\": 992,\n        \"samples\": [\n          0.052524610611710126,\n          0.015960472212784172,\n          0.030970426349985408\n        ],\n        \"semantic_type\": \"\",\n        \"description\": \"\"\n      }\n    },\n    {\n      \"column\": \"Topic 8 Probability\",\n      \"properties\": {\n        \"dtype\": \"number\",\n        \"std\": 0.11053110213901514,\n        \"min\": 1.434044992860606e-308,\n        \"max\": 1.0,\n        \"num_unique_values\": 992,\n        \"samples\": [\n          0.024201538582881345,\n          0.0190696859796282,\n          0.07284362090545139\n        ],\n        \"semantic_type\": \"\",\n        \"description\": \"\"\n      }\n    },\n    {\n      \"column\": \"Topic 9 Probability\",\n      \"properties\": {\n        \"dtype\": \"number\",\n        \"std\": 0.10290967868417056,\n        \"min\": 1.7990274077556734e-308,\n        \"max\": 1.0,\n        \"num_unique_values\": 992,\n        \"samples\": [\n          0.05857498897371358,\n          0.02439723708646097,\n          0.07226492542676566\n        ],\n        \"semantic_type\": \"\",\n        \"description\": \"\"\n      }\n    },\n    {\n      \"column\": \"Topic 10 Probability\",\n      \"properties\": {\n        \"dtype\": \"number\",\n        \"std\": 0.16237260783809365,\n        \"min\": 1.201585218891716e-308,\n        \"max\": 1.0,\n        \"num_unique_values\": 982,\n        \"samples\": [\n          5.939313806949609e-308,\n          3.7438489012767846e-308,\n          0.06954750431124887\n        ],\n        \"semantic_type\": \"\",\n        \"description\": \"\"\n      }\n    },\n    {\n      \"column\": \"Topic 11 Probability\",\n      \"properties\": {\n        \"dtype\": \"number\",\n        \"std\": 0.1955082869247617,\n        \"min\": 1.104446298615504e-308,\n        \"max\": 1.0,\n        \"num_unique_values\": 971,\n        \"samples\": [\n          0.05137299311049123,\n          0.03162082764525663,\n          0.0576372064898222\n        ],\n        \"semantic_type\": \"\",\n        \"description\": \"\"\n      }\n    },\n    {\n      \"column\": \"Topic 12 Probability\",\n      \"properties\": {\n        \"dtype\": \"number\",\n        \"std\": 0.10486057278516296,\n        \"min\": 1.4109961702820136e-308,\n        \"max\": 1.0,\n        \"num_unique_values\": 991,\n        \"samples\": [\n          0.029939874973615915,\n          0.06901887783352484,\n          0.06255262082459435\n        ],\n        \"semantic_type\": \"\",\n        \"description\": \"\"\n      }\n    },\n    {\n      \"column\": \"Topic 13 Probability\",\n      \"properties\": {\n        \"dtype\": \"number\",\n        \"std\": 0.11077422649966599,\n        \"min\": 1.510063452935955e-308,\n        \"max\": 1.0,\n        \"num_unique_values\": 992,\n        \"samples\": [\n          0.08629655793514815,\n          0.01909005433723429,\n          0.029715307797002776\n        ],\n        \"semantic_type\": \"\",\n        \"description\": \"\"\n      }\n    },\n    {\n      \"column\": \"Topic 14 Probability\",\n      \"properties\": {\n        \"dtype\": \"number\",\n        \"std\": 0.18242894839671414,\n        \"min\": 1.5718177675326653e-308,\n        \"max\": 1.0,\n        \"num_unique_values\": 972,\n        \"samples\": [\n          2.098306714504025e-308,\n          7.858915990580106e-308,\n          0.034514638077549134\n        ],\n        \"semantic_type\": \"\",\n        \"description\": \"\"\n      }\n    },\n    {\n      \"column\": \"Assigned Topic\",\n      \"properties\": {\n        \"dtype\": \"number\",\n        \"std\": 5,\n        \"min\": -1,\n        \"max\": 14,\n        \"num_unique_values\": 16,\n        \"samples\": [\n          8,\n          3,\n          11\n        ],\n        \"semantic_type\": \"\",\n        \"description\": \"\"\n      }\n    },\n    {\n      \"column\": \"Predicted Topic\",\n      \"properties\": {\n        \"dtype\": \"number\",\n        \"std\": 4,\n        \"min\": 0,\n        \"max\": 14,\n        \"num_unique_values\": 15,\n        \"samples\": [\n          4,\n          13,\n          8\n        ],\n        \"semantic_type\": \"\",\n        \"description\": \"\"\n      }\n    },\n    {\n      \"column\": \"Predicted Topic Probability\",\n      \"properties\": {\n        \"dtype\": \"number\",\n        \"std\": 0.3491473136150122,\n        \"min\": 0.048579334814615314,\n        \"max\": 1.0,\n        \"num_unique_values\": 799,\n        \"samples\": [\n          0.26728592325647915,\n          0.09345676663310111,\n          0.05442572991578785\n        ],\n        \"semantic_type\": \"\",\n        \"description\": \"\"\n      }\n    }\n  ]\n}"
            }
          },
          "metadata": {},
          "execution_count": 38
        }
      ],
      "source": [
        "# get topic assignments\n",
        "bertopic_topics_probs_df = pd.DataFrame(data = bertopic_probs,\\\n",
        "                            columns=[\"Topic \" + str(i) + \" Probability\" for i in range(len(set(bertopic_topics)) - 1)]\\\n",
        ")\n",
        "\n",
        "# Ensure only numeric columns are used for finding max values and their indices\n",
        "numeric_bertopic = bertopic_topics_probs_df.select_dtypes(include=[float, int])\n",
        "\n",
        "# Get the assigned topic, which may not exist, in which case it will be -1\n",
        "bertopic_topics_probs_df[\"Assigned Topic\"] = pd.Series(bertopic_topics)\n",
        "# Get the topic with the highest probability for each row\n",
        "bertopic_topics_probs_df[\"Predicted Topic\"] = numeric_bertopic\\\n",
        "                                          .idxmax(axis=1, skipna=True)\\\n",
        "                                          .apply(extract_number)\n",
        "\n",
        "# Get the associated max probability of topic association for each row\n",
        "bertopic_topics_probs_df[\"Predicted Topic Probability\"] = numeric_bertopic.max(axis=1, skipna=True)\n",
        "\n",
        "# print(test_topics_probs_df.dtypes)\n",
        "bertopic_topics_probs_df.head()"
      ]
    },
    {
      "cell_type": "code",
      "execution_count": 39,
      "metadata": {
        "id": "cXU4neEpfpuz"
      },
      "outputs": [],
      "source": [
        "# Reformat general counts, embedding and topic data\n",
        "\n",
        "# Put count columns into their own sparse matrix for later concatenation\n",
        "corpus_counts = sparse.csr_matrix(corpus[scaled_cols_to_normalize])\n",
        "\n",
        "# Put embeddings into their own sparse matrices\n",
        "corpus_bert_embeddings = sparse.csr_matrix(bert_embeddings)\n",
        "\n",
        "corpus_bert_topics_probs = sparse.csr_matrix(bertopic_topics_probs_df)"
      ]
    },
    {
      "cell_type": "markdown",
      "metadata": {
        "id": "g4aT_lrLGNek"
      },
      "source": [
        "## Combine general counts, TFIDF, sentence embeddings, and topic classifications"
      ]
    },
    {
      "cell_type": "code",
      "execution_count": 40,
      "metadata": {
        "colab": {
          "base_uri": "https://localhost:8080/"
        },
        "id": "ApI_OWMCS2Il",
        "outputId": "c9136722-e25d-4cc2-a87a-5efae42dbe4a"
      },
      "outputs": [
        {
          "output_type": "stream",
          "name": "stdout",
          "text": [
            "(1001, 8)\n",
            "(1001, 8759)\n",
            "(1001, 384)\n",
            "(1001, 18)\n"
          ]
        }
      ],
      "source": [
        "print(corpus_counts.shape)\n",
        "print(corpus_tfidf_vects.shape)\n",
        "print(corpus_bert_embeddings.shape)\n",
        "print(corpus_bert_topics_probs.shape)"
      ]
    },
    {
      "cell_type": "code",
      "execution_count": 41,
      "metadata": {
        "id": "uZTdOINKGUDD"
      },
      "outputs": [],
      "source": [
        "# Doing hstack directly was ineffective\n",
        "\n",
        "# Convert sparse matrices to dense arrays\n",
        "corpus_counts_dense = corpus_counts.toarray()\n",
        "corpus_tfidf_vects_dense = corpus_tfidf_vects.toarray()\n",
        "corpus_bert_embeddings_dense = corpus_bert_embeddings.toarray()\n",
        "corpus_bert_topics_probs_dense = corpus_bert_topics_probs.toarray()\n",
        "\n",
        "# Horizontally stack dense arrays, must use >=2 features\n",
        "# corpus_features_to_use = (corpus_counts_dense, corpus_tfidf_vects_dense, corpus_bert_embeddings_dense, corpus_bert_topics_probs_dense)\n",
        "corpus_features_to_use = (corpus_counts_dense, corpus_tfidf_vects_dense)\n",
        "\n",
        "# Combine the dense matrix\n",
        "all_corpus_embeddings_dense = np.hstack(corpus_features_to_use)\n",
        "\n",
        "# Convert back to sparse matrix\n",
        "all_corpus_embeddings = sparse.csr_matrix(all_corpus_embeddings_dense)"
      ]
    },
    {
      "cell_type": "code",
      "execution_count": 42,
      "metadata": {
        "colab": {
          "base_uri": "https://localhost:8080/"
        },
        "id": "Se5N7UfhSCqI",
        "outputId": "58cec078-7776-4566-d531-9d9135bc4c98"
      },
      "outputs": [
        {
          "output_type": "stream",
          "name": "stdout",
          "text": [
            "(1001, 8767)\n"
          ]
        }
      ],
      "source": [
        "print(all_corpus_embeddings.shape)"
      ]
    },
    {
      "cell_type": "markdown",
      "source": [
        "# Vector Space Exploration"
      ],
      "metadata": {
        "id": "3JjcRu1UXHQO"
      }
    },
    {
      "cell_type": "markdown",
      "source": [
        "## BERTopic Embeddings"
      ],
      "metadata": {
        "id": "bZ5w_CXHRcdL"
      }
    },
    {
      "cell_type": "code",
      "source": [
        "bertopic_topics_probs_df.head()"
      ],
      "metadata": {
        "colab": {
          "base_uri": "https://localhost:8080/",
          "height": 261
        },
        "id": "fgUbJcNwQHuy",
        "outputId": "cee77d48-2010-470f-c555-32f838d1391a"
      },
      "execution_count": 127,
      "outputs": [
        {
          "output_type": "execute_result",
          "data": {
            "text/plain": [
              "   Topic 0 Probability  Topic 1 Probability  Topic 2 Probability  \\\n",
              "0             0.030035             0.055843             0.028499   \n",
              "1             0.033699             0.023089             0.040007   \n",
              "2             0.036769             0.048817             0.027763   \n",
              "3             0.031080             0.041964             0.030478   \n",
              "4             0.028881             0.027395             0.132607   \n",
              "\n",
              "   Topic 3 Probability  Topic 4 Probability  Topic 5 Probability  \\\n",
              "0             0.018096             0.039467             0.020604   \n",
              "1             0.353627             0.014021             0.051440   \n",
              "2             0.021112             0.060450             0.022421   \n",
              "3             0.019246             0.034806             0.022984   \n",
              "4             0.033764             0.012291             0.036774   \n",
              "\n",
              "   Topic 6 Probability  Topic 7 Probability  Topic 8 Probability  \\\n",
              "0             0.018586             0.067923             0.338212   \n",
              "1             0.045699             0.016692             0.015854   \n",
              "2             0.019864             0.048097             0.070805   \n",
              "3             0.019738             0.417904             0.072077   \n",
              "4             0.032151             0.016805             0.015813   \n",
              "\n",
              "   Topic 9 Probability  Topic 10 Probability  Topic 11 Probability  \\\n",
              "0             0.106573              0.052211              0.042424   \n",
              "1             0.020304              0.013267              0.012257   \n",
              "2             0.085355              0.050128              0.109210   \n",
              "3             0.065664              0.036266              0.029986   \n",
              "4             0.019659              0.012193              0.010487   \n",
              "\n",
              "   Topic 12 Probability  Topic 13 Probability  Topic 14 Probability  \\\n",
              "0              0.039970              0.042048              0.051698   \n",
              "1              0.017474              0.016317              0.017009   \n",
              "2              0.084966              0.041453              0.111117   \n",
              "3              0.031687              0.055439              0.055589   \n",
              "4              0.014878              0.015231              0.015243   \n",
              "\n",
              "   Assigned Topic  Predicted Topic  Predicted Topic Probability  \n",
              "0               8                8                     0.338212  \n",
              "1               3                3                     0.353627  \n",
              "2              -1               14                     0.111117  \n",
              "3               7                7                     0.417904  \n",
              "4               2                2                     0.132607  "
            ],
            "text/html": [
              "\n",
              "  <div id=\"df-8f8073dc-521f-422c-95dc-a9c62168e0ff\" class=\"colab-df-container\">\n",
              "    <div>\n",
              "<style scoped>\n",
              "    .dataframe tbody tr th:only-of-type {\n",
              "        vertical-align: middle;\n",
              "    }\n",
              "\n",
              "    .dataframe tbody tr th {\n",
              "        vertical-align: top;\n",
              "    }\n",
              "\n",
              "    .dataframe thead th {\n",
              "        text-align: right;\n",
              "    }\n",
              "</style>\n",
              "<table border=\"1\" class=\"dataframe\">\n",
              "  <thead>\n",
              "    <tr style=\"text-align: right;\">\n",
              "      <th></th>\n",
              "      <th>Topic 0 Probability</th>\n",
              "      <th>Topic 1 Probability</th>\n",
              "      <th>Topic 2 Probability</th>\n",
              "      <th>Topic 3 Probability</th>\n",
              "      <th>Topic 4 Probability</th>\n",
              "      <th>Topic 5 Probability</th>\n",
              "      <th>Topic 6 Probability</th>\n",
              "      <th>Topic 7 Probability</th>\n",
              "      <th>Topic 8 Probability</th>\n",
              "      <th>Topic 9 Probability</th>\n",
              "      <th>Topic 10 Probability</th>\n",
              "      <th>Topic 11 Probability</th>\n",
              "      <th>Topic 12 Probability</th>\n",
              "      <th>Topic 13 Probability</th>\n",
              "      <th>Topic 14 Probability</th>\n",
              "      <th>Assigned Topic</th>\n",
              "      <th>Predicted Topic</th>\n",
              "      <th>Predicted Topic Probability</th>\n",
              "    </tr>\n",
              "  </thead>\n",
              "  <tbody>\n",
              "    <tr>\n",
              "      <th>0</th>\n",
              "      <td>0.030035</td>\n",
              "      <td>0.055843</td>\n",
              "      <td>0.028499</td>\n",
              "      <td>0.018096</td>\n",
              "      <td>0.039467</td>\n",
              "      <td>0.020604</td>\n",
              "      <td>0.018586</td>\n",
              "      <td>0.067923</td>\n",
              "      <td>0.338212</td>\n",
              "      <td>0.106573</td>\n",
              "      <td>0.052211</td>\n",
              "      <td>0.042424</td>\n",
              "      <td>0.039970</td>\n",
              "      <td>0.042048</td>\n",
              "      <td>0.051698</td>\n",
              "      <td>8</td>\n",
              "      <td>8</td>\n",
              "      <td>0.338212</td>\n",
              "    </tr>\n",
              "    <tr>\n",
              "      <th>1</th>\n",
              "      <td>0.033699</td>\n",
              "      <td>0.023089</td>\n",
              "      <td>0.040007</td>\n",
              "      <td>0.353627</td>\n",
              "      <td>0.014021</td>\n",
              "      <td>0.051440</td>\n",
              "      <td>0.045699</td>\n",
              "      <td>0.016692</td>\n",
              "      <td>0.015854</td>\n",
              "      <td>0.020304</td>\n",
              "      <td>0.013267</td>\n",
              "      <td>0.012257</td>\n",
              "      <td>0.017474</td>\n",
              "      <td>0.016317</td>\n",
              "      <td>0.017009</td>\n",
              "      <td>3</td>\n",
              "      <td>3</td>\n",
              "      <td>0.353627</td>\n",
              "    </tr>\n",
              "    <tr>\n",
              "      <th>2</th>\n",
              "      <td>0.036769</td>\n",
              "      <td>0.048817</td>\n",
              "      <td>0.027763</td>\n",
              "      <td>0.021112</td>\n",
              "      <td>0.060450</td>\n",
              "      <td>0.022421</td>\n",
              "      <td>0.019864</td>\n",
              "      <td>0.048097</td>\n",
              "      <td>0.070805</td>\n",
              "      <td>0.085355</td>\n",
              "      <td>0.050128</td>\n",
              "      <td>0.109210</td>\n",
              "      <td>0.084966</td>\n",
              "      <td>0.041453</td>\n",
              "      <td>0.111117</td>\n",
              "      <td>-1</td>\n",
              "      <td>14</td>\n",
              "      <td>0.111117</td>\n",
              "    </tr>\n",
              "    <tr>\n",
              "      <th>3</th>\n",
              "      <td>0.031080</td>\n",
              "      <td>0.041964</td>\n",
              "      <td>0.030478</td>\n",
              "      <td>0.019246</td>\n",
              "      <td>0.034806</td>\n",
              "      <td>0.022984</td>\n",
              "      <td>0.019738</td>\n",
              "      <td>0.417904</td>\n",
              "      <td>0.072077</td>\n",
              "      <td>0.065664</td>\n",
              "      <td>0.036266</td>\n",
              "      <td>0.029986</td>\n",
              "      <td>0.031687</td>\n",
              "      <td>0.055439</td>\n",
              "      <td>0.055589</td>\n",
              "      <td>7</td>\n",
              "      <td>7</td>\n",
              "      <td>0.417904</td>\n",
              "    </tr>\n",
              "    <tr>\n",
              "      <th>4</th>\n",
              "      <td>0.028881</td>\n",
              "      <td>0.027395</td>\n",
              "      <td>0.132607</td>\n",
              "      <td>0.033764</td>\n",
              "      <td>0.012291</td>\n",
              "      <td>0.036774</td>\n",
              "      <td>0.032151</td>\n",
              "      <td>0.016805</td>\n",
              "      <td>0.015813</td>\n",
              "      <td>0.019659</td>\n",
              "      <td>0.012193</td>\n",
              "      <td>0.010487</td>\n",
              "      <td>0.014878</td>\n",
              "      <td>0.015231</td>\n",
              "      <td>0.015243</td>\n",
              "      <td>2</td>\n",
              "      <td>2</td>\n",
              "      <td>0.132607</td>\n",
              "    </tr>\n",
              "  </tbody>\n",
              "</table>\n",
              "</div>\n",
              "    <div class=\"colab-df-buttons\">\n",
              "\n",
              "  <div class=\"colab-df-container\">\n",
              "    <button class=\"colab-df-convert\" onclick=\"convertToInteractive('df-8f8073dc-521f-422c-95dc-a9c62168e0ff')\"\n",
              "            title=\"Convert this dataframe to an interactive table.\"\n",
              "            style=\"display:none;\">\n",
              "\n",
              "  <svg xmlns=\"http://www.w3.org/2000/svg\" height=\"24px\" viewBox=\"0 -960 960 960\">\n",
              "    <path d=\"M120-120v-720h720v720H120Zm60-500h600v-160H180v160Zm220 220h160v-160H400v160Zm0 220h160v-160H400v160ZM180-400h160v-160H180v160Zm440 0h160v-160H620v160ZM180-180h160v-160H180v160Zm440 0h160v-160H620v160Z\"/>\n",
              "  </svg>\n",
              "    </button>\n",
              "\n",
              "  <style>\n",
              "    .colab-df-container {\n",
              "      display:flex;\n",
              "      gap: 12px;\n",
              "    }\n",
              "\n",
              "    .colab-df-convert {\n",
              "      background-color: #E8F0FE;\n",
              "      border: none;\n",
              "      border-radius: 50%;\n",
              "      cursor: pointer;\n",
              "      display: none;\n",
              "      fill: #1967D2;\n",
              "      height: 32px;\n",
              "      padding: 0 0 0 0;\n",
              "      width: 32px;\n",
              "    }\n",
              "\n",
              "    .colab-df-convert:hover {\n",
              "      background-color: #E2EBFA;\n",
              "      box-shadow: 0px 1px 2px rgba(60, 64, 67, 0.3), 0px 1px 3px 1px rgba(60, 64, 67, 0.15);\n",
              "      fill: #174EA6;\n",
              "    }\n",
              "\n",
              "    .colab-df-buttons div {\n",
              "      margin-bottom: 4px;\n",
              "    }\n",
              "\n",
              "    [theme=dark] .colab-df-convert {\n",
              "      background-color: #3B4455;\n",
              "      fill: #D2E3FC;\n",
              "    }\n",
              "\n",
              "    [theme=dark] .colab-df-convert:hover {\n",
              "      background-color: #434B5C;\n",
              "      box-shadow: 0px 1px 3px 1px rgba(0, 0, 0, 0.15);\n",
              "      filter: drop-shadow(0px 1px 2px rgba(0, 0, 0, 0.3));\n",
              "      fill: #FFFFFF;\n",
              "    }\n",
              "  </style>\n",
              "\n",
              "    <script>\n",
              "      const buttonEl =\n",
              "        document.querySelector('#df-8f8073dc-521f-422c-95dc-a9c62168e0ff button.colab-df-convert');\n",
              "      buttonEl.style.display =\n",
              "        google.colab.kernel.accessAllowed ? 'block' : 'none';\n",
              "\n",
              "      async function convertToInteractive(key) {\n",
              "        const element = document.querySelector('#df-8f8073dc-521f-422c-95dc-a9c62168e0ff');\n",
              "        const dataTable =\n",
              "          await google.colab.kernel.invokeFunction('convertToInteractive',\n",
              "                                                    [key], {});\n",
              "        if (!dataTable) return;\n",
              "\n",
              "        const docLinkHtml = 'Like what you see? Visit the ' +\n",
              "          '<a target=\"_blank\" href=https://colab.research.google.com/notebooks/data_table.ipynb>data table notebook</a>'\n",
              "          + ' to learn more about interactive tables.';\n",
              "        element.innerHTML = '';\n",
              "        dataTable['output_type'] = 'display_data';\n",
              "        await google.colab.output.renderOutput(dataTable, element);\n",
              "        const docLink = document.createElement('div');\n",
              "        docLink.innerHTML = docLinkHtml;\n",
              "        element.appendChild(docLink);\n",
              "      }\n",
              "    </script>\n",
              "  </div>\n",
              "\n",
              "\n",
              "<div id=\"df-6ac3246f-97a9-401c-bcfa-beaf86745f41\">\n",
              "  <button class=\"colab-df-quickchart\" onclick=\"quickchart('df-6ac3246f-97a9-401c-bcfa-beaf86745f41')\"\n",
              "            title=\"Suggest charts\"\n",
              "            style=\"display:none;\">\n",
              "\n",
              "<svg xmlns=\"http://www.w3.org/2000/svg\" height=\"24px\"viewBox=\"0 0 24 24\"\n",
              "     width=\"24px\">\n",
              "    <g>\n",
              "        <path d=\"M19 3H5c-1.1 0-2 .9-2 2v14c0 1.1.9 2 2 2h14c1.1 0 2-.9 2-2V5c0-1.1-.9-2-2-2zM9 17H7v-7h2v7zm4 0h-2V7h2v10zm4 0h-2v-4h2v4z\"/>\n",
              "    </g>\n",
              "</svg>\n",
              "  </button>\n",
              "\n",
              "<style>\n",
              "  .colab-df-quickchart {\n",
              "      --bg-color: #E8F0FE;\n",
              "      --fill-color: #1967D2;\n",
              "      --hover-bg-color: #E2EBFA;\n",
              "      --hover-fill-color: #174EA6;\n",
              "      --disabled-fill-color: #AAA;\n",
              "      --disabled-bg-color: #DDD;\n",
              "  }\n",
              "\n",
              "  [theme=dark] .colab-df-quickchart {\n",
              "      --bg-color: #3B4455;\n",
              "      --fill-color: #D2E3FC;\n",
              "      --hover-bg-color: #434B5C;\n",
              "      --hover-fill-color: #FFFFFF;\n",
              "      --disabled-bg-color: #3B4455;\n",
              "      --disabled-fill-color: #666;\n",
              "  }\n",
              "\n",
              "  .colab-df-quickchart {\n",
              "    background-color: var(--bg-color);\n",
              "    border: none;\n",
              "    border-radius: 50%;\n",
              "    cursor: pointer;\n",
              "    display: none;\n",
              "    fill: var(--fill-color);\n",
              "    height: 32px;\n",
              "    padding: 0;\n",
              "    width: 32px;\n",
              "  }\n",
              "\n",
              "  .colab-df-quickchart:hover {\n",
              "    background-color: var(--hover-bg-color);\n",
              "    box-shadow: 0 1px 2px rgba(60, 64, 67, 0.3), 0 1px 3px 1px rgba(60, 64, 67, 0.15);\n",
              "    fill: var(--button-hover-fill-color);\n",
              "  }\n",
              "\n",
              "  .colab-df-quickchart-complete:disabled,\n",
              "  .colab-df-quickchart-complete:disabled:hover {\n",
              "    background-color: var(--disabled-bg-color);\n",
              "    fill: var(--disabled-fill-color);\n",
              "    box-shadow: none;\n",
              "  }\n",
              "\n",
              "  .colab-df-spinner {\n",
              "    border: 2px solid var(--fill-color);\n",
              "    border-color: transparent;\n",
              "    border-bottom-color: var(--fill-color);\n",
              "    animation:\n",
              "      spin 1s steps(1) infinite;\n",
              "  }\n",
              "\n",
              "  @keyframes spin {\n",
              "    0% {\n",
              "      border-color: transparent;\n",
              "      border-bottom-color: var(--fill-color);\n",
              "      border-left-color: var(--fill-color);\n",
              "    }\n",
              "    20% {\n",
              "      border-color: transparent;\n",
              "      border-left-color: var(--fill-color);\n",
              "      border-top-color: var(--fill-color);\n",
              "    }\n",
              "    30% {\n",
              "      border-color: transparent;\n",
              "      border-left-color: var(--fill-color);\n",
              "      border-top-color: var(--fill-color);\n",
              "      border-right-color: var(--fill-color);\n",
              "    }\n",
              "    40% {\n",
              "      border-color: transparent;\n",
              "      border-right-color: var(--fill-color);\n",
              "      border-top-color: var(--fill-color);\n",
              "    }\n",
              "    60% {\n",
              "      border-color: transparent;\n",
              "      border-right-color: var(--fill-color);\n",
              "    }\n",
              "    80% {\n",
              "      border-color: transparent;\n",
              "      border-right-color: var(--fill-color);\n",
              "      border-bottom-color: var(--fill-color);\n",
              "    }\n",
              "    90% {\n",
              "      border-color: transparent;\n",
              "      border-bottom-color: var(--fill-color);\n",
              "    }\n",
              "  }\n",
              "</style>\n",
              "\n",
              "  <script>\n",
              "    async function quickchart(key) {\n",
              "      const quickchartButtonEl =\n",
              "        document.querySelector('#' + key + ' button');\n",
              "      quickchartButtonEl.disabled = true;  // To prevent multiple clicks.\n",
              "      quickchartButtonEl.classList.add('colab-df-spinner');\n",
              "      try {\n",
              "        const charts = await google.colab.kernel.invokeFunction(\n",
              "            'suggestCharts', [key], {});\n",
              "      } catch (error) {\n",
              "        console.error('Error during call to suggestCharts:', error);\n",
              "      }\n",
              "      quickchartButtonEl.classList.remove('colab-df-spinner');\n",
              "      quickchartButtonEl.classList.add('colab-df-quickchart-complete');\n",
              "    }\n",
              "    (() => {\n",
              "      let quickchartButtonEl =\n",
              "        document.querySelector('#df-6ac3246f-97a9-401c-bcfa-beaf86745f41 button');\n",
              "      quickchartButtonEl.style.display =\n",
              "        google.colab.kernel.accessAllowed ? 'block' : 'none';\n",
              "    })();\n",
              "  </script>\n",
              "</div>\n",
              "\n",
              "    </div>\n",
              "  </div>\n"
            ],
            "application/vnd.google.colaboratory.intrinsic+json": {
              "type": "dataframe",
              "variable_name": "bertopic_topics_probs_df",
              "summary": "{\n  \"name\": \"bertopic_topics_probs_df\",\n  \"rows\": 1001,\n  \"fields\": [\n    {\n      \"column\": \"Topic 0 Probability\",\n      \"properties\": {\n        \"dtype\": \"number\",\n        \"std\": 0.10360240686061256,\n        \"min\": 1.7667915685930526e-308,\n        \"max\": 1.0,\n        \"num_unique_values\": 992,\n        \"samples\": [\n          0.03217995110720038,\n          0.04146071771903807,\n          0.03437093634037328\n        ],\n        \"semantic_type\": \"\",\n        \"description\": \"\"\n      }\n    },\n    {\n      \"column\": \"Topic 1 Probability\",\n      \"properties\": {\n        \"dtype\": \"number\",\n        \"std\": 0.10941132143139247,\n        \"min\": 1.9749575534836185e-308,\n        \"max\": 1.0,\n        \"num_unique_values\": 992,\n        \"samples\": [\n          0.04210675839001073,\n          0.020010326241651683,\n          0.038281628876998756\n        ],\n        \"semantic_type\": \"\",\n        \"description\": \"\"\n      }\n    },\n    {\n      \"column\": \"Topic 2 Probability\",\n      \"properties\": {\n        \"dtype\": \"number\",\n        \"std\": 0.10566517496796449,\n        \"min\": 1.5265938309796107e-308,\n        \"max\": 1.0,\n        \"num_unique_values\": 992,\n        \"samples\": [\n          0.02785463202752192,\n          0.050818101797069574,\n          0.028945671244397328\n        ],\n        \"semantic_type\": \"\",\n        \"description\": \"\"\n      }\n    },\n    {\n      \"column\": \"Topic 3 Probability\",\n      \"properties\": {\n        \"dtype\": \"number\",\n        \"std\": 0.12275402073333255,\n        \"min\": 1.2211701102793473e-308,\n        \"max\": 1.0,\n        \"num_unique_values\": 991,\n        \"samples\": [\n          0.01567220162928684,\n          0.1832408146435739,\n          0.585254141963974\n        ],\n        \"semantic_type\": \"\",\n        \"description\": \"\"\n      }\n    },\n    {\n      \"column\": \"Topic 4 Probability\",\n      \"properties\": {\n        \"dtype\": \"number\",\n        \"std\": 0.10713507905806721,\n        \"min\": 1.1705032633317773e-308,\n        \"max\": 1.0,\n        \"num_unique_values\": 992,\n        \"samples\": [\n          3.7689795828027367e-308,\n          0.05902198352867763,\n          0.044183793307431524\n        ],\n        \"semantic_type\": \"\",\n        \"description\": \"\"\n      }\n    },\n    {\n      \"column\": \"Topic 5 Probability\",\n      \"properties\": {\n        \"dtype\": \"number\",\n        \"std\": 0.11201522619687816,\n        \"min\": 1.2653978652321326e-308,\n        \"max\": 1.0,\n        \"num_unique_values\": 992,\n        \"samples\": [\n          2.050809299319215e-308,\n          0.05474088940311019,\n          0.02410656308875203\n        ],\n        \"semantic_type\": \"\",\n        \"description\": \"\"\n      }\n    },\n    {\n      \"column\": \"Topic 6 Probability\",\n      \"properties\": {\n        \"dtype\": \"number\",\n        \"std\": 0.10470397712359582,\n        \"min\": 1.158857962747452e-308,\n        \"max\": 1.0,\n        \"num_unique_values\": 992,\n        \"samples\": [\n          1.845899495078341e-308,\n          0.04632385128901248,\n          0.021348792694621224\n        ],\n        \"semantic_type\": \"\",\n        \"description\": \"\"\n      }\n    },\n    {\n      \"column\": \"Topic 7 Probability\",\n      \"properties\": {\n        \"dtype\": \"number\",\n        \"std\": 0.10909463734434788,\n        \"min\": 1.525652347965977e-308,\n        \"max\": 1.0,\n        \"num_unique_values\": 992,\n        \"samples\": [\n          0.052524610611710126,\n          0.015960472212784172,\n          0.030970426349985408\n        ],\n        \"semantic_type\": \"\",\n        \"description\": \"\"\n      }\n    },\n    {\n      \"column\": \"Topic 8 Probability\",\n      \"properties\": {\n        \"dtype\": \"number\",\n        \"std\": 0.11053110213901514,\n        \"min\": 1.434044992860606e-308,\n        \"max\": 1.0,\n        \"num_unique_values\": 992,\n        \"samples\": [\n          0.024201538582881345,\n          0.0190696859796282,\n          0.07284362090545139\n        ],\n        \"semantic_type\": \"\",\n        \"description\": \"\"\n      }\n    },\n    {\n      \"column\": \"Topic 9 Probability\",\n      \"properties\": {\n        \"dtype\": \"number\",\n        \"std\": 0.10290967868417056,\n        \"min\": 1.7990274077556734e-308,\n        \"max\": 1.0,\n        \"num_unique_values\": 992,\n        \"samples\": [\n          0.05857498897371358,\n          0.02439723708646097,\n          0.07226492542676566\n        ],\n        \"semantic_type\": \"\",\n        \"description\": \"\"\n      }\n    },\n    {\n      \"column\": \"Topic 10 Probability\",\n      \"properties\": {\n        \"dtype\": \"number\",\n        \"std\": 0.16237260783809365,\n        \"min\": 1.201585218891716e-308,\n        \"max\": 1.0,\n        \"num_unique_values\": 982,\n        \"samples\": [\n          5.939313806949609e-308,\n          3.7438489012767846e-308,\n          0.06954750431124887\n        ],\n        \"semantic_type\": \"\",\n        \"description\": \"\"\n      }\n    },\n    {\n      \"column\": \"Topic 11 Probability\",\n      \"properties\": {\n        \"dtype\": \"number\",\n        \"std\": 0.1955082869247617,\n        \"min\": 1.104446298615504e-308,\n        \"max\": 1.0,\n        \"num_unique_values\": 971,\n        \"samples\": [\n          0.05137299311049123,\n          0.03162082764525663,\n          0.0576372064898222\n        ],\n        \"semantic_type\": \"\",\n        \"description\": \"\"\n      }\n    },\n    {\n      \"column\": \"Topic 12 Probability\",\n      \"properties\": {\n        \"dtype\": \"number\",\n        \"std\": 0.10486057278516296,\n        \"min\": 1.4109961702820136e-308,\n        \"max\": 1.0,\n        \"num_unique_values\": 991,\n        \"samples\": [\n          0.029939874973615915,\n          0.06901887783352484,\n          0.06255262082459435\n        ],\n        \"semantic_type\": \"\",\n        \"description\": \"\"\n      }\n    },\n    {\n      \"column\": \"Topic 13 Probability\",\n      \"properties\": {\n        \"dtype\": \"number\",\n        \"std\": 0.11077422649966599,\n        \"min\": 1.510063452935955e-308,\n        \"max\": 1.0,\n        \"num_unique_values\": 992,\n        \"samples\": [\n          0.08629655793514815,\n          0.01909005433723429,\n          0.029715307797002776\n        ],\n        \"semantic_type\": \"\",\n        \"description\": \"\"\n      }\n    },\n    {\n      \"column\": \"Topic 14 Probability\",\n      \"properties\": {\n        \"dtype\": \"number\",\n        \"std\": 0.18242894839671414,\n        \"min\": 1.5718177675326653e-308,\n        \"max\": 1.0,\n        \"num_unique_values\": 972,\n        \"samples\": [\n          2.098306714504025e-308,\n          7.858915990580106e-308,\n          0.034514638077549134\n        ],\n        \"semantic_type\": \"\",\n        \"description\": \"\"\n      }\n    },\n    {\n      \"column\": \"Assigned Topic\",\n      \"properties\": {\n        \"dtype\": \"number\",\n        \"std\": 5,\n        \"min\": -1,\n        \"max\": 14,\n        \"num_unique_values\": 16,\n        \"samples\": [\n          8,\n          3,\n          11\n        ],\n        \"semantic_type\": \"\",\n        \"description\": \"\"\n      }\n    },\n    {\n      \"column\": \"Predicted Topic\",\n      \"properties\": {\n        \"dtype\": \"number\",\n        \"std\": 4,\n        \"min\": 0,\n        \"max\": 14,\n        \"num_unique_values\": 15,\n        \"samples\": [\n          4,\n          13,\n          8\n        ],\n        \"semantic_type\": \"\",\n        \"description\": \"\"\n      }\n    },\n    {\n      \"column\": \"Predicted Topic Probability\",\n      \"properties\": {\n        \"dtype\": \"number\",\n        \"std\": 0.3491473136150122,\n        \"min\": 0.048579334814615314,\n        \"max\": 1.0,\n        \"num_unique_values\": 799,\n        \"samples\": [\n          0.26728592325647915,\n          0.09345676663310111,\n          0.05442572991578785\n        ],\n        \"semantic_type\": \"\",\n        \"description\": \"\"\n      }\n    }\n  ]\n}"
            }
          },
          "metadata": {},
          "execution_count": 127
        }
      ]
    },
    {
      "cell_type": "code",
      "execution_count": 126,
      "metadata": {
        "colab": {
          "base_uri": "https://localhost:8080/",
          "height": 447
        },
        "id": "rfbDTA1rzB7V",
        "outputId": "c2591c25-3765-4575-8379-0884e8f0873d"
      },
      "outputs": [
        {
          "output_type": "execute_result",
          "data": {
            "text/plain": [
              "<Axes: ylabel='Frequency'>"
            ]
          },
          "metadata": {},
          "execution_count": 126
        },
        {
          "output_type": "display_data",
          "data": {
            "text/plain": [
              "<Figure size 640x480 with 1 Axes>"
            ],
            "image/png": "[encoded data removed]"
          },
          "metadata": {}
        }
      ],
      "source": [
        "bertopic_topics_probs_df.plot.hist(x=\"Predicted Topic\", y=\"Predicted Topic Probability\")"
      ]
    },
    {
      "cell_type": "code",
      "execution_count": 123,
      "metadata": {
        "colab": {
          "base_uri": "https://localhost:8080/",
          "height": 893
        },
        "id": "87PcJyxK3Pa8",
        "outputId": "af2735f3-07e5-426e-a57e-2d74e47104ea"
      },
      "outputs": [
        {
          "output_type": "execute_result",
          "data": {
            "text/plain": [
              "<Axes: title={'center': 'Topic Frequencies'}, xlabel='Predicted Topic', ylabel='Frequency'>"
            ]
          },
          "metadata": {},
          "execution_count": 123
        },
        {
          "output_type": "display_data",
          "data": {
            "text/plain": [
              "<Figure size 2000x1000 with 1 Axes>"
            ],
            "image/png": "[encoded data removed]"
          },
          "metadata": {}
        }
      ],
      "source": [
        "bertopic_topics_probs_df[\"Predicted Topic\"]\\\n",
        "  .value_counts()\\\n",
        "  .plot\\\n",
        "  .bar(logy=True, figsize=(20, 10), xlabel=\"Predicted Topic\", ylabel=\"Frequency\", title=\"Topic Frequencies\")"
      ]
    },
    {
      "cell_type": "code",
      "execution_count": 124,
      "metadata": {
        "colab": {
          "base_uri": "https://localhost:8080/",
          "height": 893
        },
        "id": "yPIU7KtMKrv0",
        "outputId": "22b22fde-904a-457c-96d1-f49bf74da682"
      },
      "outputs": [
        {
          "output_type": "execute_result",
          "data": {
            "text/plain": [
              "<Axes: title={'center': 'Topic Frequencies'}, xlabel='Assigned Topic', ylabel='Frequency'>"
            ]
          },
          "metadata": {},
          "execution_count": 124
        },
        {
          "output_type": "display_data",
          "data": {
            "text/plain": [
              "<Figure size 2000x1000 with 1 Axes>"
            ],
            "image/png": "[encoded data removed]"
          },
          "metadata": {}
        }
      ],
      "source": [
        "bertopic_topics_probs_df[\"Assigned Topic\"]\\\n",
        "  .value_counts()\\\n",
        "  .plot\\\n",
        "  .bar(logy=True, figsize=(20, 10), xlabel=\"Assigned Topic\", ylabel=\"Frequency\", title=\"Topic Frequencies\")"
      ]
    },
    {
      "cell_type": "markdown",
      "source": [
        "## Sentence Embeddings"
      ],
      "metadata": {
        "id": "rxY8ZRaRRlZr"
      }
    },
    {
      "cell_type": "code",
      "source": [],
      "metadata": {
        "id": "xKMQLPlgRo6p"
      },
      "execution_count": null,
      "outputs": []
    },
    {
      "cell_type": "markdown",
      "source": [
        "## PCA"
      ],
      "metadata": {
        "id": "Qaky5CteRjjz"
      }
    },
    {
      "cell_type": "code",
      "source": [
        "pca = PCA(n_components=4)\n",
        "components = pca.fit_transform(all_corpus_embeddings_dense)\n",
        "\n",
        "# Create a DataFrame with the principal components\n",
        "column_names = [\"PC\" + str(i) for i in range(components.shape[1])]\n",
        "pca_df = pd.DataFrame(components, columns=column_names)\n",
        "\n",
        "pca_df.head()"
      ],
      "metadata": {
        "colab": {
          "base_uri": "https://localhost:8080/",
          "height": 206
        },
        "id": "ca5B3SWJRpqb",
        "outputId": "0b53e432-7da6-46d5-c8c8-a1c54d94e7f5"
      },
      "execution_count": 153,
      "outputs": [
        {
          "output_type": "execute_result",
          "data": {
            "text/plain": [
              "        PC0       PC1       PC2       PC3\n",
              "0  0.250774 -0.046220  0.346812 -0.020583\n",
              "1 -0.159996  0.334711  0.020443 -0.000459\n",
              "2  0.034200 -0.098229  0.300894 -0.015021\n",
              "3 -0.039001 -0.119018 -0.047570 -0.004783\n",
              "4 -0.144086  0.012285 -0.027050 -0.029467"
            ],
            "text/html": [
              "\n",
              "  <div id=\"df-1309d3a9-90c5-4d31-a1ea-54c59bc83e72\" class=\"colab-df-container\">\n",
              "    <div>\n",
              "<style scoped>\n",
              "    .dataframe tbody tr th:only-of-type {\n",
              "        vertical-align: middle;\n",
              "    }\n",
              "\n",
              "    .dataframe tbody tr th {\n",
              "        vertical-align: top;\n",
              "    }\n",
              "\n",
              "    .dataframe thead th {\n",
              "        text-align: right;\n",
              "    }\n",
              "</style>\n",
              "<table border=\"1\" class=\"dataframe\">\n",
              "  <thead>\n",
              "    <tr style=\"text-align: right;\">\n",
              "      <th></th>\n",
              "      <th>PC0</th>\n",
              "      <th>PC1</th>\n",
              "      <th>PC2</th>\n",
              "      <th>PC3</th>\n",
              "    </tr>\n",
              "  </thead>\n",
              "  <tbody>\n",
              "    <tr>\n",
              "      <th>0</th>\n",
              "      <td>0.250774</td>\n",
              "      <td>-0.046220</td>\n",
              "      <td>0.346812</td>\n",
              "      <td>-0.020583</td>\n",
              "    </tr>\n",
              "    <tr>\n",
              "      <th>1</th>\n",
              "      <td>-0.159996</td>\n",
              "      <td>0.334711</td>\n",
              "      <td>0.020443</td>\n",
              "      <td>-0.000459</td>\n",
              "    </tr>\n",
              "    <tr>\n",
              "      <th>2</th>\n",
              "      <td>0.034200</td>\n",
              "      <td>-0.098229</td>\n",
              "      <td>0.300894</td>\n",
              "      <td>-0.015021</td>\n",
              "    </tr>\n",
              "    <tr>\n",
              "      <th>3</th>\n",
              "      <td>-0.039001</td>\n",
              "      <td>-0.119018</td>\n",
              "      <td>-0.047570</td>\n",
              "      <td>-0.004783</td>\n",
              "    </tr>\n",
              "    <tr>\n",
              "      <th>4</th>\n",
              "      <td>-0.144086</td>\n",
              "      <td>0.012285</td>\n",
              "      <td>-0.027050</td>\n",
              "      <td>-0.029467</td>\n",
              "    </tr>\n",
              "  </tbody>\n",
              "</table>\n",
              "</div>\n",
              "    <div class=\"colab-df-buttons\">\n",
              "\n",
              "  <div class=\"colab-df-container\">\n",
              "    <button class=\"colab-df-convert\" onclick=\"convertToInteractive('df-1309d3a9-90c5-4d31-a1ea-54c59bc83e72')\"\n",
              "            title=\"Convert this dataframe to an interactive table.\"\n",
              "            style=\"display:none;\">\n",
              "\n",
              "  <svg xmlns=\"http://www.w3.org/2000/svg\" height=\"24px\" viewBox=\"0 -960 960 960\">\n",
              "    <path d=\"M120-120v-720h720v720H120Zm60-500h600v-160H180v160Zm220 220h160v-160H400v160Zm0 220h160v-160H400v160ZM180-400h160v-160H180v160Zm440 0h160v-160H620v160ZM180-180h160v-160H180v160Zm440 0h160v-160H620v160Z\"/>\n",
              "  </svg>\n",
              "    </button>\n",
              "\n",
              "  <style>\n",
              "    .colab-df-container {\n",
              "      display:flex;\n",
              "      gap: 12px;\n",
              "    }\n",
              "\n",
              "    .colab-df-convert {\n",
              "      background-color: #E8F0FE;\n",
              "      border: none;\n",
              "      border-radius: 50%;\n",
              "      cursor: pointer;\n",
              "      display: none;\n",
              "      fill: #1967D2;\n",
              "      height: 32px;\n",
              "      padding: 0 0 0 0;\n",
              "      width: 32px;\n",
              "    }\n",
              "\n",
              "    .colab-df-convert:hover {\n",
              "      background-color: #E2EBFA;\n",
              "      box-shadow: 0px 1px 2px rgba(60, 64, 67, 0.3), 0px 1px 3px 1px rgba(60, 64, 67, 0.15);\n",
              "      fill: #174EA6;\n",
              "    }\n",
              "\n",
              "    .colab-df-buttons div {\n",
              "      margin-bottom: 4px;\n",
              "    }\n",
              "\n",
              "    [theme=dark] .colab-df-convert {\n",
              "      background-color: #3B4455;\n",
              "      fill: #D2E3FC;\n",
              "    }\n",
              "\n",
              "    [theme=dark] .colab-df-convert:hover {\n",
              "      background-color: #434B5C;\n",
              "      box-shadow: 0px 1px 3px 1px rgba(0, 0, 0, 0.15);\n",
              "      filter: drop-shadow(0px 1px 2px rgba(0, 0, 0, 0.3));\n",
              "      fill: #FFFFFF;\n",
              "    }\n",
              "  </style>\n",
              "\n",
              "    <script>\n",
              "      const buttonEl =\n",
              "        document.querySelector('#df-1309d3a9-90c5-4d31-a1ea-54c59bc83e72 button.colab-df-convert');\n",
              "      buttonEl.style.display =\n",
              "        google.colab.kernel.accessAllowed ? 'block' : 'none';\n",
              "\n",
              "      async function convertToInteractive(key) {\n",
              "        const element = document.querySelector('#df-1309d3a9-90c5-4d31-a1ea-54c59bc83e72');\n",
              "        const dataTable =\n",
              "          await google.colab.kernel.invokeFunction('convertToInteractive',\n",
              "                                                    [key], {});\n",
              "        if (!dataTable) return;\n",
              "\n",
              "        const docLinkHtml = 'Like what you see? Visit the ' +\n",
              "          '<a target=\"_blank\" href=https://colab.research.google.com/notebooks/data_table.ipynb>data table notebook</a>'\n",
              "          + ' to learn more about interactive tables.';\n",
              "        element.innerHTML = '';\n",
              "        dataTable['output_type'] = 'display_data';\n",
              "        await google.colab.output.renderOutput(dataTable, element);\n",
              "        const docLink = document.createElement('div');\n",
              "        docLink.innerHTML = docLinkHtml;\n",
              "        element.appendChild(docLink);\n",
              "      }\n",
              "    </script>\n",
              "  </div>\n",
              "\n",
              "\n",
              "<div id=\"df-b62686b5-ed72-4e37-abaf-ab289b4c26a3\">\n",
              "  <button class=\"colab-df-quickchart\" onclick=\"quickchart('df-b62686b5-ed72-4e37-abaf-ab289b4c26a3')\"\n",
              "            title=\"Suggest charts\"\n",
              "            style=\"display:none;\">\n",
              "\n",
              "<svg xmlns=\"http://www.w3.org/2000/svg\" height=\"24px\"viewBox=\"0 0 24 24\"\n",
              "     width=\"24px\">\n",
              "    <g>\n",
              "        <path d=\"M19 3H5c-1.1 0-2 .9-2 2v14c0 1.1.9 2 2 2h14c1.1 0 2-.9 2-2V5c0-1.1-.9-2-2-2zM9 17H7v-7h2v7zm4 0h-2V7h2v10zm4 0h-2v-4h2v4z\"/>\n",
              "    </g>\n",
              "</svg>\n",
              "  </button>\n",
              "\n",
              "<style>\n",
              "  .colab-df-quickchart {\n",
              "      --bg-color: #E8F0FE;\n",
              "      --fill-color: #1967D2;\n",
              "      --hover-bg-color: #E2EBFA;\n",
              "      --hover-fill-color: #174EA6;\n",
              "      --disabled-fill-color: #AAA;\n",
              "      --disabled-bg-color: #DDD;\n",
              "  }\n",
              "\n",
              "  [theme=dark] .colab-df-quickchart {\n",
              "      --bg-color: #3B4455;\n",
              "      --fill-color: #D2E3FC;\n",
              "      --hover-bg-color: #434B5C;\n",
              "      --hover-fill-color: #FFFFFF;\n",
              "      --disabled-bg-color: #3B4455;\n",
              "      --disabled-fill-color: #666;\n",
              "  }\n",
              "\n",
              "  .colab-df-quickchart {\n",
              "    background-color: var(--bg-color);\n",
              "    border: none;\n",
              "    border-radius: 50%;\n",
              "    cursor: pointer;\n",
              "    display: none;\n",
              "    fill: var(--fill-color);\n",
              "    height: 32px;\n",
              "    padding: 0;\n",
              "    width: 32px;\n",
              "  }\n",
              "\n",
              "  .colab-df-quickchart:hover {\n",
              "    background-color: var(--hover-bg-color);\n",
              "    box-shadow: 0 1px 2px rgba(60, 64, 67, 0.3), 0 1px 3px 1px rgba(60, 64, 67, 0.15);\n",
              "    fill: var(--button-hover-fill-color);\n",
              "  }\n",
              "\n",
              "  .colab-df-quickchart-complete:disabled,\n",
              "  .colab-df-quickchart-complete:disabled:hover {\n",
              "    background-color: var(--disabled-bg-color);\n",
              "    fill: var(--disabled-fill-color);\n",
              "    box-shadow: none;\n",
              "  }\n",
              "\n",
              "  .colab-df-spinner {\n",
              "    border: 2px solid var(--fill-color);\n",
              "    border-color: transparent;\n",
              "    border-bottom-color: var(--fill-color);\n",
              "    animation:\n",
              "      spin 1s steps(1) infinite;\n",
              "  }\n",
              "\n",
              "  @keyframes spin {\n",
              "    0% {\n",
              "      border-color: transparent;\n",
              "      border-bottom-color: var(--fill-color);\n",
              "      border-left-color: var(--fill-color);\n",
              "    }\n",
              "    20% {\n",
              "      border-color: transparent;\n",
              "      border-left-color: var(--fill-color);\n",
              "      border-top-color: var(--fill-color);\n",
              "    }\n",
              "    30% {\n",
              "      border-color: transparent;\n",
              "      border-left-color: var(--fill-color);\n",
              "      border-top-color: var(--fill-color);\n",
              "      border-right-color: var(--fill-color);\n",
              "    }\n",
              "    40% {\n",
              "      border-color: transparent;\n",
              "      border-right-color: var(--fill-color);\n",
              "      border-top-color: var(--fill-color);\n",
              "    }\n",
              "    60% {\n",
              "      border-color: transparent;\n",
              "      border-right-color: var(--fill-color);\n",
              "    }\n",
              "    80% {\n",
              "      border-color: transparent;\n",
              "      border-right-color: var(--fill-color);\n",
              "      border-bottom-color: var(--fill-color);\n",
              "    }\n",
              "    90% {\n",
              "      border-color: transparent;\n",
              "      border-bottom-color: var(--fill-color);\n",
              "    }\n",
              "  }\n",
              "</style>\n",
              "\n",
              "  <script>\n",
              "    async function quickchart(key) {\n",
              "      const quickchartButtonEl =\n",
              "        document.querySelector('#' + key + ' button');\n",
              "      quickchartButtonEl.disabled = true;  // To prevent multiple clicks.\n",
              "      quickchartButtonEl.classList.add('colab-df-spinner');\n",
              "      try {\n",
              "        const charts = await google.colab.kernel.invokeFunction(\n",
              "            'suggestCharts', [key], {});\n",
              "      } catch (error) {\n",
              "        console.error('Error during call to suggestCharts:', error);\n",
              "      }\n",
              "      quickchartButtonEl.classList.remove('colab-df-spinner');\n",
              "      quickchartButtonEl.classList.add('colab-df-quickchart-complete');\n",
              "    }\n",
              "    (() => {\n",
              "      let quickchartButtonEl =\n",
              "        document.querySelector('#df-b62686b5-ed72-4e37-abaf-ab289b4c26a3 button');\n",
              "      quickchartButtonEl.style.display =\n",
              "        google.colab.kernel.accessAllowed ? 'block' : 'none';\n",
              "    })();\n",
              "  </script>\n",
              "</div>\n",
              "\n",
              "    </div>\n",
              "  </div>\n"
            ],
            "application/vnd.google.colaboratory.intrinsic+json": {
              "type": "dataframe",
              "variable_name": "pca_df",
              "summary": "{\n  \"name\": \"pca_df\",\n  \"rows\": 1001,\n  \"fields\": [\n    {\n      \"column\": \"PC0\",\n      \"properties\": {\n        \"dtype\": \"number\",\n        \"std\": 0.16091101129286695,\n        \"min\": -0.3934456239700102,\n        \"max\": 0.4700226549529732,\n        \"num_unique_values\": 979,\n        \"samples\": [\n          -0.07900304814023074,\n          -0.2129808443534799,\n          0.12482355527680286\n        ],\n        \"semantic_type\": \"\",\n        \"description\": \"\"\n      }\n    },\n    {\n      \"column\": \"PC1\",\n      \"properties\": {\n        \"dtype\": \"number\",\n        \"std\": 0.13028981001970846,\n        \"min\": -0.2320243908278668,\n        \"max\": 0.49030483458495516,\n        \"num_unique_values\": 979,\n        \"samples\": [\n          -0.028440591892300603,\n          -0.07183868549532343,\n          -0.04216111240167749\n        ],\n        \"semantic_type\": \"\",\n        \"description\": \"\"\n      }\n    },\n    {\n      \"column\": \"PC2\",\n      \"properties\": {\n        \"dtype\": \"number\",\n        \"std\": 0.1092845605606314,\n        \"min\": -0.34785501262831786,\n        \"max\": 0.4583237647860131,\n        \"num_unique_values\": 980,\n        \"samples\": [\n          -0.057094450663604336,\n          -0.1671448255343444,\n          0.4583237647860131\n        ],\n        \"semantic_type\": \"\",\n        \"description\": \"\"\n      }\n    },\n    {\n      \"column\": \"PC3\",\n      \"properties\": {\n        \"dtype\": \"number\",\n        \"std\": 0.10684040192934527,\n        \"min\": -0.17207945870054298,\n        \"max\": 0.8051895708642984,\n        \"num_unique_values\": 980,\n        \"samples\": [\n          -0.02170306960775836,\n          -0.06577016564478912,\n          0.012296113410561782\n        ],\n        \"semantic_type\": \"\",\n        \"description\": \"\"\n      }\n    }\n  ]\n}"
            }
          },
          "metadata": {},
          "execution_count": 153
        }
      ]
    },
    {
      "cell_type": "code",
      "source": [
        "explained_variance_ratios_df = pd.DataFrame({\n",
        "    \"Component\": [i for i in range(components.shape[1])],\n",
        "    \"Explained Variance Ratio\": pca.explained_variance_ratio_,\n",
        "})\n",
        "\n",
        "explained_variance_ratios_df.head()"
      ],
      "metadata": {
        "colab": {
          "base_uri": "https://localhost:8080/",
          "height": 175
        },
        "id": "JKWRLem_UdSx",
        "outputId": "4e822994-05a2-407b-dd46-a54594a9c88c"
      },
      "execution_count": 154,
      "outputs": [
        {
          "output_type": "execute_result",
          "data": {
            "text/plain": [
              "   Component  Explained Variance Ratio\n",
              "0          0                  0.028149\n",
              "1          1                  0.018455\n",
              "2          2                  0.012984\n",
              "3          3                  0.012410"
            ],
            "text/html": [
              "\n",
              "  <div id=\"df-158a2512-3b33-4cdc-bc98-643a3805db6f\" class=\"colab-df-container\">\n",
              "    <div>\n",
              "<style scoped>\n",
              "    .dataframe tbody tr th:only-of-type {\n",
              "        vertical-align: middle;\n",
              "    }\n",
              "\n",
              "    .dataframe tbody tr th {\n",
              "        vertical-align: top;\n",
              "    }\n",
              "\n",
              "    .dataframe thead th {\n",
              "        text-align: right;\n",
              "    }\n",
              "</style>\n",
              "<table border=\"1\" class=\"dataframe\">\n",
              "  <thead>\n",
              "    <tr style=\"text-align: right;\">\n",
              "      <th></th>\n",
              "      <th>Component</th>\n",
              "      <th>Explained Variance Ratio</th>\n",
              "    </tr>\n",
              "  </thead>\n",
              "  <tbody>\n",
              "    <tr>\n",
              "      <th>0</th>\n",
              "      <td>0</td>\n",
              "      <td>0.028149</td>\n",
              "    </tr>\n",
              "    <tr>\n",
              "      <th>1</th>\n",
              "      <td>1</td>\n",
              "      <td>0.018455</td>\n",
              "    </tr>\n",
              "    <tr>\n",
              "      <th>2</th>\n",
              "      <td>2</td>\n",
              "      <td>0.012984</td>\n",
              "    </tr>\n",
              "    <tr>\n",
              "      <th>3</th>\n",
              "      <td>3</td>\n",
              "      <td>0.012410</td>\n",
              "    </tr>\n",
              "  </tbody>\n",
              "</table>\n",
              "</div>\n",
              "    <div class=\"colab-df-buttons\">\n",
              "\n",
              "  <div class=\"colab-df-container\">\n",
              "    <button class=\"colab-df-convert\" onclick=\"convertToInteractive('df-158a2512-3b33-4cdc-bc98-643a3805db6f')\"\n",
              "            title=\"Convert this dataframe to an interactive table.\"\n",
              "            style=\"display:none;\">\n",
              "\n",
              "  <svg xmlns=\"http://www.w3.org/2000/svg\" height=\"24px\" viewBox=\"0 -960 960 960\">\n",
              "    <path d=\"M120-120v-720h720v720H120Zm60-500h600v-160H180v160Zm220 220h160v-160H400v160Zm0 220h160v-160H400v160ZM180-400h160v-160H180v160Zm440 0h160v-160H620v160ZM180-180h160v-160H180v160Zm440 0h160v-160H620v160Z\"/>\n",
              "  </svg>\n",
              "    </button>\n",
              "\n",
              "  <style>\n",
              "    .colab-df-container {\n",
              "      display:flex;\n",
              "      gap: 12px;\n",
              "    }\n",
              "\n",
              "    .colab-df-convert {\n",
              "      background-color: #E8F0FE;\n",
              "      border: none;\n",
              "      border-radius: 50%;\n",
              "      cursor: pointer;\n",
              "      display: none;\n",
              "      fill: #1967D2;\n",
              "      height: 32px;\n",
              "      padding: 0 0 0 0;\n",
              "      width: 32px;\n",
              "    }\n",
              "\n",
              "    .colab-df-convert:hover {\n",
              "      background-color: #E2EBFA;\n",
              "      box-shadow: 0px 1px 2px rgba(60, 64, 67, 0.3), 0px 1px 3px 1px rgba(60, 64, 67, 0.15);\n",
              "      fill: #174EA6;\n",
              "    }\n",
              "\n",
              "    .colab-df-buttons div {\n",
              "      margin-bottom: 4px;\n",
              "    }\n",
              "\n",
              "    [theme=dark] .colab-df-convert {\n",
              "      background-color: #3B4455;\n",
              "      fill: #D2E3FC;\n",
              "    }\n",
              "\n",
              "    [theme=dark] .colab-df-convert:hover {\n",
              "      background-color: #434B5C;\n",
              "      box-shadow: 0px 1px 3px 1px rgba(0, 0, 0, 0.15);\n",
              "      filter: drop-shadow(0px 1px 2px rgba(0, 0, 0, 0.3));\n",
              "      fill: #FFFFFF;\n",
              "    }\n",
              "  </style>\n",
              "\n",
              "    <script>\n",
              "      const buttonEl =\n",
              "        document.querySelector('#df-158a2512-3b33-4cdc-bc98-643a3805db6f button.colab-df-convert');\n",
              "      buttonEl.style.display =\n",
              "        google.colab.kernel.accessAllowed ? 'block' : 'none';\n",
              "\n",
              "      async function convertToInteractive(key) {\n",
              "        const element = document.querySelector('#df-158a2512-3b33-4cdc-bc98-643a3805db6f');\n",
              "        const dataTable =\n",
              "          await google.colab.kernel.invokeFunction('convertToInteractive',\n",
              "                                                    [key], {});\n",
              "        if (!dataTable) return;\n",
              "\n",
              "        const docLinkHtml = 'Like what you see? Visit the ' +\n",
              "          '<a target=\"_blank\" href=https://colab.research.google.com/notebooks/data_table.ipynb>data table notebook</a>'\n",
              "          + ' to learn more about interactive tables.';\n",
              "        element.innerHTML = '';\n",
              "        dataTable['output_type'] = 'display_data';\n",
              "        await google.colab.output.renderOutput(dataTable, element);\n",
              "        const docLink = document.createElement('div');\n",
              "        docLink.innerHTML = docLinkHtml;\n",
              "        element.appendChild(docLink);\n",
              "      }\n",
              "    </script>\n",
              "  </div>\n",
              "\n",
              "\n",
              "<div id=\"df-885f7606-7577-41b3-bbfa-2f395fda2073\">\n",
              "  <button class=\"colab-df-quickchart\" onclick=\"quickchart('df-885f7606-7577-41b3-bbfa-2f395fda2073')\"\n",
              "            title=\"Suggest charts\"\n",
              "            style=\"display:none;\">\n",
              "\n",
              "<svg xmlns=\"http://www.w3.org/2000/svg\" height=\"24px\"viewBox=\"0 0 24 24\"\n",
              "     width=\"24px\">\n",
              "    <g>\n",
              "        <path d=\"M19 3H5c-1.1 0-2 .9-2 2v14c0 1.1.9 2 2 2h14c1.1 0 2-.9 2-2V5c0-1.1-.9-2-2-2zM9 17H7v-7h2v7zm4 0h-2V7h2v10zm4 0h-2v-4h2v4z\"/>\n",
              "    </g>\n",
              "</svg>\n",
              "  </button>\n",
              "\n",
              "<style>\n",
              "  .colab-df-quickchart {\n",
              "      --bg-color: #E8F0FE;\n",
              "      --fill-color: #1967D2;\n",
              "      --hover-bg-color: #E2EBFA;\n",
              "      --hover-fill-color: #174EA6;\n",
              "      --disabled-fill-color: #AAA;\n",
              "      --disabled-bg-color: #DDD;\n",
              "  }\n",
              "\n",
              "  [theme=dark] .colab-df-quickchart {\n",
              "      --bg-color: #3B4455;\n",
              "      --fill-color: #D2E3FC;\n",
              "      --hover-bg-color: #434B5C;\n",
              "      --hover-fill-color: #FFFFFF;\n",
              "      --disabled-bg-color: #3B4455;\n",
              "      --disabled-fill-color: #666;\n",
              "  }\n",
              "\n",
              "  .colab-df-quickchart {\n",
              "    background-color: var(--bg-color);\n",
              "    border: none;\n",
              "    border-radius: 50%;\n",
              "    cursor: pointer;\n",
              "    display: none;\n",
              "    fill: var(--fill-color);\n",
              "    height: 32px;\n",
              "    padding: 0;\n",
              "    width: 32px;\n",
              "  }\n",
              "\n",
              "  .colab-df-quickchart:hover {\n",
              "    background-color: var(--hover-bg-color);\n",
              "    box-shadow: 0 1px 2px rgba(60, 64, 67, 0.3), 0 1px 3px 1px rgba(60, 64, 67, 0.15);\n",
              "    fill: var(--button-hover-fill-color);\n",
              "  }\n",
              "\n",
              "  .colab-df-quickchart-complete:disabled,\n",
              "  .colab-df-quickchart-complete:disabled:hover {\n",
              "    background-color: var(--disabled-bg-color);\n",
              "    fill: var(--disabled-fill-color);\n",
              "    box-shadow: none;\n",
              "  }\n",
              "\n",
              "  .colab-df-spinner {\n",
              "    border: 2px solid var(--fill-color);\n",
              "    border-color: transparent;\n",
              "    border-bottom-color: var(--fill-color);\n",
              "    animation:\n",
              "      spin 1s steps(1) infinite;\n",
              "  }\n",
              "\n",
              "  @keyframes spin {\n",
              "    0% {\n",
              "      border-color: transparent;\n",
              "      border-bottom-color: var(--fill-color);\n",
              "      border-left-color: var(--fill-color);\n",
              "    }\n",
              "    20% {\n",
              "      border-color: transparent;\n",
              "      border-left-color: var(--fill-color);\n",
              "      border-top-color: var(--fill-color);\n",
              "    }\n",
              "    30% {\n",
              "      border-color: transparent;\n",
              "      border-left-color: var(--fill-color);\n",
              "      border-top-color: var(--fill-color);\n",
              "      border-right-color: var(--fill-color);\n",
              "    }\n",
              "    40% {\n",
              "      border-color: transparent;\n",
              "      border-right-color: var(--fill-color);\n",
              "      border-top-color: var(--fill-color);\n",
              "    }\n",
              "    60% {\n",
              "      border-color: transparent;\n",
              "      border-right-color: var(--fill-color);\n",
              "    }\n",
              "    80% {\n",
              "      border-color: transparent;\n",
              "      border-right-color: var(--fill-color);\n",
              "      border-bottom-color: var(--fill-color);\n",
              "    }\n",
              "    90% {\n",
              "      border-color: transparent;\n",
              "      border-bottom-color: var(--fill-color);\n",
              "    }\n",
              "  }\n",
              "</style>\n",
              "\n",
              "  <script>\n",
              "    async function quickchart(key) {\n",
              "      const quickchartButtonEl =\n",
              "        document.querySelector('#' + key + ' button');\n",
              "      quickchartButtonEl.disabled = true;  // To prevent multiple clicks.\n",
              "      quickchartButtonEl.classList.add('colab-df-spinner');\n",
              "      try {\n",
              "        const charts = await google.colab.kernel.invokeFunction(\n",
              "            'suggestCharts', [key], {});\n",
              "      } catch (error) {\n",
              "        console.error('Error during call to suggestCharts:', error);\n",
              "      }\n",
              "      quickchartButtonEl.classList.remove('colab-df-spinner');\n",
              "      quickchartButtonEl.classList.add('colab-df-quickchart-complete');\n",
              "    }\n",
              "    (() => {\n",
              "      let quickchartButtonEl =\n",
              "        document.querySelector('#df-885f7606-7577-41b3-bbfa-2f395fda2073 button');\n",
              "      quickchartButtonEl.style.display =\n",
              "        google.colab.kernel.accessAllowed ? 'block' : 'none';\n",
              "    })();\n",
              "  </script>\n",
              "</div>\n",
              "\n",
              "    </div>\n",
              "  </div>\n"
            ],
            "application/vnd.google.colaboratory.intrinsic+json": {
              "type": "dataframe",
              "variable_name": "explained_variance_ratios_df",
              "summary": "{\n  \"name\": \"explained_variance_ratios_df\",\n  \"rows\": 4,\n  \"fields\": [\n    {\n      \"column\": \"Component\",\n      \"properties\": {\n        \"dtype\": \"number\",\n        \"std\": 1,\n        \"min\": 0,\n        \"max\": 3,\n        \"num_unique_values\": 4,\n        \"samples\": [\n          1,\n          3,\n          0\n        ],\n        \"semantic_type\": \"\",\n        \"description\": \"\"\n      }\n    },\n    {\n      \"column\": \"Explained Variance Ratio\",\n      \"properties\": {\n        \"dtype\": \"number\",\n        \"std\": 0.007294367844781288,\n        \"min\": 0.012409853761244621,\n        \"max\": 0.028149271903243275,\n        \"num_unique_values\": 4,\n        \"samples\": [\n          0.018455105792879758,\n          0.012409853761244621,\n          0.028149271903243275\n        ],\n        \"semantic_type\": \"\",\n        \"description\": \"\"\n      }\n    }\n  ]\n}"
            }
          },
          "metadata": {},
          "execution_count": 154
        }
      ]
    },
    {
      "cell_type": "code",
      "source": [
        "explained_variance_ratios_df.plot.bar(x=\"Component\", y=\"Explained Variance Ratio\")"
      ],
      "metadata": {
        "colab": {
          "base_uri": "https://localhost:8080/",
          "height": 461
        },
        "id": "jixUrCnRV5T5",
        "outputId": "92d89ab0-8ee3-4b33-f9d0-25eded506f4c"
      },
      "execution_count": 155,
      "outputs": [
        {
          "output_type": "execute_result",
          "data": {
            "text/plain": [
              "<Axes: xlabel='Component'>"
            ]
          },
          "metadata": {},
          "execution_count": 155
        },
        {
          "output_type": "display_data",
          "data": {
            "text/plain": [
              "<Figure size 640x480 with 1 Axes>"
            ],
            "image/png": "[encoded data removed]"
          },
          "metadata": {}
        }
      ]
    },
    {
      "source": [
        "pca_df.plot(kind='scatter', x='PC0', y='PC1', s=32, alpha=.5, c=corpus['color'])"
      ],
      "cell_type": "code",
      "execution_count": 156,
      "outputs": [
        {
          "output_type": "execute_result",
          "data": {
            "text/plain": [
              "<Axes: xlabel='PC0', ylabel='PC1'>"
            ]
          },
          "metadata": {},
          "execution_count": 156
        },
        {
          "output_type": "display_data",
          "data": {
            "text/plain": [
              "<Figure size 640x480 with 1 Axes>"
            ],
            "image/png": "[encoded data removed]"
          },
          "metadata": {}
        }
      ],
      "metadata": {
        "colab": {
          "base_uri": "https://localhost:8080/",
          "height": 466
        },
        "id": "JGvEB6KETTe4",
        "outputId": "ca0d1861-f6ca-4ea5-fbc1-e197e1bb169e"
      }
    },
    {
      "cell_type": "code",
      "source": [
        "pca_df.plot(kind='scatter', x='PC1', y='PC2', s=32, alpha=.5, c=corpus['color'])"
      ],
      "metadata": {
        "colab": {
          "base_uri": "https://localhost:8080/",
          "height": 466
        },
        "id": "mn6r64DdUMPr",
        "outputId": "554c18b1-c1ca-40e1-8318-b6a82e982760"
      },
      "execution_count": 157,
      "outputs": [
        {
          "output_type": "execute_result",
          "data": {
            "text/plain": [
              "<Axes: xlabel='PC1', ylabel='PC2'>"
            ]
          },
          "metadata": {},
          "execution_count": 157
        },
        {
          "output_type": "display_data",
          "data": {
            "text/plain": [
              "<Figure size 640x480 with 1 Axes>"
            ],
            "image/png": "[encoded data removed]"
          },
          "metadata": {}
        }
      ]
    },
    {
      "cell_type": "code",
      "source": [
        "pca_df.plot(kind='scatter', x='PC2', y='PC3', s=32, alpha=.5, c=corpus['color'])"
      ],
      "metadata": {
        "colab": {
          "base_uri": "https://localhost:8080/",
          "height": 466
        },
        "id": "CCG0Py-9UOlM",
        "outputId": "d14b325a-a0cd-4f5c-bbf1-3769592aab28"
      },
      "execution_count": 158,
      "outputs": [
        {
          "output_type": "execute_result",
          "data": {
            "text/plain": [
              "<Axes: xlabel='PC2', ylabel='PC3'>"
            ]
          },
          "metadata": {},
          "execution_count": 158
        },
        {
          "output_type": "display_data",
          "data": {
            "text/plain": [
              "<Figure size 640x480 with 1 Axes>"
            ],
            "image/png": "[encoded data removed]"
          },
          "metadata": {}
        }
      ]
    },
    {
      "cell_type": "markdown",
      "metadata": {
        "id": "y6v5mUzSVBM0"
      },
      "source": [
        "# Classification and Model Evaluation"
      ]
    },
    {
      "cell_type": "markdown",
      "metadata": {
        "id": "Rf6ccobjAk4B"
      },
      "source": [
        "## Models"
      ]
    },
    {
      "cell_type": "code",
      "execution_count": 46,
      "metadata": {
        "id": "uWrnAEzTfTOF"
      },
      "outputs": [],
      "source": [
        "# Classifiers\n",
        "# Unsupervised\n",
        "km = KMeans(n_clusters=2, random_state=random_state)\n",
        "spectral = SpectralClustering(n_clusters=2, random_state=random_state)\n",
        "\n",
        "# Supervised\n",
        "nb = GaussianNB()\n",
        "svc = SVC(kernel=\"linear\")"
      ]
    },
    {
      "cell_type": "code",
      "execution_count": 47,
      "metadata": {
        "id": "TIxtuvy4t363"
      },
      "outputs": [],
      "source": [
        "# Regressors\n",
        "lr = LinearRegression()\n",
        "knn = KNeighborsRegressor(n_neighbors=5)\n",
        "dt = DecisionTreeRegressor()\n",
        "mlp = MLPRegressor(random_state=random_state,\\\n",
        "                    max_iter=1000,\\\n",
        "                    learning_rate_init=0.01\\\n",
        ")"
      ]
    },
    {
      "cell_type": "code",
      "execution_count": 48,
      "metadata": {
        "id": "K0d6tE90Wp6M"
      },
      "outputs": [],
      "source": [
        "# Random Forest\n",
        "rf = RandomForestClassifier(n_estimators=100)\n",
        "\n",
        "# Stacking Regressor\n",
        "stacking_regressor = StackingRegressor(\\\n",
        "                            estimators=[\n",
        "                                (\"Linear Regression\", lr),\n",
        "                                (\"K-Nearest Neighbors\", knn),\n",
        "                                (\"Decision Tree\", dt),\n",
        "                                (\"Multi-Layer Perceptron\", mlp)\n",
        "                            ],\n",
        "                            final_estimator=LinearRegression(),\n",
        "                            cv = 5)\n",
        "\n",
        "# create the voting classifier later, once the stacker has been fit to the data"
      ]
    },
    {
      "cell_type": "markdown",
      "metadata": {
        "id": "KkpeGarcenzf"
      },
      "source": [
        "## Important Functions"
      ]
    },
    {
      "cell_type": "code",
      "source": [
        "def get_voting_classifier():\n",
        "    # Extract the coefficients from the final estimator\n",
        "    final_estimator = stacking_regressor.final_estimator_\n",
        "    coefficients = final_estimator.coef_\n",
        "    print(\"Coefficients from the final estimator:\", coefficients)\n",
        "\n",
        "    # Create voting classifier\n",
        "    voting = VotingRegressor(\\\n",
        "                            estimators=[\n",
        "                              (\"Linear Regression\", lr),\n",
        "                              (\"K-Nearest Neighbors\", knn),\n",
        "                              (\"Decision Tree\", dt),\n",
        "                              (\"Multi-Layer Perceptron\", mlp)],\n",
        "                            weights=coefficients)\n",
        "\n",
        "    return voting"
      ],
      "metadata": {
        "id": "Z8n2DPDT35yB"
      },
      "execution_count": 49,
      "outputs": []
    },
    {
      "cell_type": "code",
      "source": [
        "def get_spam_cv_scores(X, y, cv=5, metric=\"f1\"):\n",
        "\n",
        "    scores = pd.DataFrame({\n",
        "        \"Decision Tree\": cross_val_score(dt, X, y, cv=cv, scoring=metric),\n",
        "        \"K Means\": cross_val_score(km, X, y, cv=cv, scoring=metric),\n",
        "        \"K Nearest Neighbor\": cross_val_score(knn, X, y, cv=cv, scoring=metric),\n",
        "        \"Linear Regression\": cross_val_score(lr, X, y, cv=cv, scoring=metric),\n",
        "        \"Multi-Layer Perceptron\": cross_val_score(mlp, X, y, cv=cv, scoring=metric),\n",
        "        \"Naive Bayes\": cross_val_score(nb, X, y, cv=cv, scoring=metric),\n",
        "        \"Spectral Clustering\": cross_val_score(spectral, X, y, cv=cv, scoring=metric),\n",
        "        \"Support Vector\": cross_val_score(svc, X, y, cv=cv, scoring=metric),\n",
        "        \"Random Forest\": cross_val_score(rf, X, y, cv=cv, scoring=metric) #,\n",
        "        # \"Voting Classifier\": cross_val_score(get_voting_classifier(), X, y, cv=cv, scoring=metric)\n",
        "    })\n",
        "\n",
        "    return scores"
      ],
      "metadata": {
        "id": "JHu1ZvwJlYf_"
      },
      "execution_count": 50,
      "outputs": []
    },
    {
      "cell_type": "code",
      "execution_count": 51,
      "metadata": {
        "id": "bk-I-U7k9f-8"
      },
      "outputs": [],
      "source": [
        "def format(stat):\n",
        "    return \"\\t\" + str('%.3f'%stat)"
      ]
    },
    {
      "cell_type": "code",
      "source": [
        "def get_model_scores(X, y, cv=5, metric=\"f1\"):\n",
        "  # get the scores for the metric and drop irrelevant columns\n",
        "  cv_scores = get_spam_cv_scores(all_corpus_embeddings_dense, corpus[\"class\"], cv, metric)\n",
        "  cv_scores.dropna(axis=1, how=\"any\", inplace=True)\n",
        "\n",
        "  # create a new df with just the mean cross-validation scores\n",
        "  cv_score_means = pd.DataFrame({\n",
        "      \"Model\":    list(cv_scores.columns),\n",
        "      \"Metric\":   [metric]*len(cv_scores.columns),\n",
        "      \"Score\": cv_scores.mean(axis=0)\n",
        "      })\n",
        "\n",
        "  return cv_score_means"
      ],
      "metadata": {
        "id": "wLR5FxGQA2_9"
      },
      "execution_count": 90,
      "outputs": []
    },
    {
      "cell_type": "code",
      "source": [
        "# import sklearn\n",
        "# sklearn.metrics.get_scorer_names()"
      ],
      "metadata": {
        "id": "z73OBUFayCN0"
      },
      "execution_count": 97,
      "outputs": []
    },
    {
      "cell_type": "code",
      "source": [
        "def get_score_means_df():\n",
        "  scores_dfs = []\n",
        "  for metric in [\"accuracy\", \"precision\", \"recall\", \"f1\"]:\n",
        "    scores_dfs.append(get_model_scores(all_corpus_embeddings_dense, corpus[\"class\"], 5, metric))\n",
        "\n",
        "  return pd.concat(scores_dfs, ignore_index=True)"
      ],
      "metadata": {
        "id": "UNZP3MHVCnJg"
      },
      "execution_count": 96,
      "outputs": []
    },
    {
      "cell_type": "markdown",
      "source": [
        "## Classify"
      ],
      "metadata": {
        "id": "pPuBcqLxJXDV"
      }
    },
    {
      "cell_type": "code",
      "source": [
        "score_means_df = get_score_means_df()"
      ],
      "metadata": {
        "colab": {
          "base_uri": "https://localhost:8080/",
          "height": 677
        },
        "id": "lNDGHYYH7wVT",
        "outputId": "4f95f1e8-fc61-4cb3-91b4-c5fd762e650d"
      },
      "execution_count": 118,
      "outputs": [
        {
          "output_type": "execute_result",
          "data": {
            "text/plain": [
              "             Model     Metric     Score\n",
              "0    Decision Tree   accuracy  0.959055\n",
              "1          K Means   accuracy  0.478602\n",
              "2      Naive Bayes   accuracy  0.981015\n",
              "3   Support Vector   accuracy  0.984025\n",
              "4    Random Forest   accuracy  0.979025\n",
              "5    Decision Tree  precision  0.892227\n",
              "6          K Means  precision  0.111254\n",
              "7      Naive Bayes  precision  0.940845\n",
              "8   Support Vector  precision  0.993103\n",
              "9    Random Forest  precision  0.984900\n",
              "10   Decision Tree     recall  0.890125\n",
              "11         K Means     recall  0.413741\n",
              "12     Naive Bayes     recall  0.934409\n",
              "13  Support Vector     recall  0.901720\n",
              "14   Random Forest     recall  0.875269\n",
              "15   Decision Tree         f1  0.876801\n",
              "16         K Means         f1  0.175148\n",
              "17     Naive Bayes         f1  0.937470\n",
              "18  Support Vector         f1  0.944680\n",
              "19   Random Forest         f1  0.918130"
            ],
            "text/html": [
              "\n",
              "  <div id=\"df-eff7bc24-282e-484f-8cfc-b3c3c0795746\" class=\"colab-df-container\">\n",
              "    <div>\n",
              "<style scoped>\n",
              "    .dataframe tbody tr th:only-of-type {\n",
              "        vertical-align: middle;\n",
              "    }\n",
              "\n",
              "    .dataframe tbody tr th {\n",
              "        vertical-align: top;\n",
              "    }\n",
              "\n",
              "    .dataframe thead th {\n",
              "        text-align: right;\n",
              "    }\n",
              "</style>\n",
              "<table border=\"1\" class=\"dataframe\">\n",
              "  <thead>\n",
              "    <tr style=\"text-align: right;\">\n",
              "      <th></th>\n",
              "      <th>Model</th>\n",
              "      <th>Metric</th>\n",
              "      <th>Score</th>\n",
              "    </tr>\n",
              "  </thead>\n",
              "  <tbody>\n",
              "    <tr>\n",
              "      <th>0</th>\n",
              "      <td>Decision Tree</td>\n",
              "      <td>accuracy</td>\n",
              "      <td>0.959055</td>\n",
              "    </tr>\n",
              "    <tr>\n",
              "      <th>1</th>\n",
              "      <td>K Means</td>\n",
              "      <td>accuracy</td>\n",
              "      <td>0.478602</td>\n",
              "    </tr>\n",
              "    <tr>\n",
              "      <th>2</th>\n",
              "      <td>Naive Bayes</td>\n",
              "      <td>accuracy</td>\n",
              "      <td>0.981015</td>\n",
              "    </tr>\n",
              "    <tr>\n",
              "      <th>3</th>\n",
              "      <td>Support Vector</td>\n",
              "      <td>accuracy</td>\n",
              "      <td>0.984025</td>\n",
              "    </tr>\n",
              "    <tr>\n",
              "      <th>4</th>\n",
              "      <td>Random Forest</td>\n",
              "      <td>accuracy</td>\n",
              "      <td>0.979025</td>\n",
              "    </tr>\n",
              "    <tr>\n",
              "      <th>5</th>\n",
              "      <td>Decision Tree</td>\n",
              "      <td>precision</td>\n",
              "      <td>0.892227</td>\n",
              "    </tr>\n",
              "    <tr>\n",
              "      <th>6</th>\n",
              "      <td>K Means</td>\n",
              "      <td>precision</td>\n",
              "      <td>0.111254</td>\n",
              "    </tr>\n",
              "    <tr>\n",
              "      <th>7</th>\n",
              "      <td>Naive Bayes</td>\n",
              "      <td>precision</td>\n",
              "      <td>0.940845</td>\n",
              "    </tr>\n",
              "    <tr>\n",
              "      <th>8</th>\n",
              "      <td>Support Vector</td>\n",
              "      <td>precision</td>\n",
              "      <td>0.993103</td>\n",
              "    </tr>\n",
              "    <tr>\n",
              "      <th>9</th>\n",
              "      <td>Random Forest</td>\n",
              "      <td>precision</td>\n",
              "      <td>0.984900</td>\n",
              "    </tr>\n",
              "    <tr>\n",
              "      <th>10</th>\n",
              "      <td>Decision Tree</td>\n",
              "      <td>recall</td>\n",
              "      <td>0.890125</td>\n",
              "    </tr>\n",
              "    <tr>\n",
              "      <th>11</th>\n",
              "      <td>K Means</td>\n",
              "      <td>recall</td>\n",
              "      <td>0.413741</td>\n",
              "    </tr>\n",
              "    <tr>\n",
              "      <th>12</th>\n",
              "      <td>Naive Bayes</td>\n",
              "      <td>recall</td>\n",
              "      <td>0.934409</td>\n",
              "    </tr>\n",
              "    <tr>\n",
              "      <th>13</th>\n",
              "      <td>Support Vector</td>\n",
              "      <td>recall</td>\n",
              "      <td>0.901720</td>\n",
              "    </tr>\n",
              "    <tr>\n",
              "      <th>14</th>\n",
              "      <td>Random Forest</td>\n",
              "      <td>recall</td>\n",
              "      <td>0.875269</td>\n",
              "    </tr>\n",
              "    <tr>\n",
              "      <th>15</th>\n",
              "      <td>Decision Tree</td>\n",
              "      <td>f1</td>\n",
              "      <td>0.876801</td>\n",
              "    </tr>\n",
              "    <tr>\n",
              "      <th>16</th>\n",
              "      <td>K Means</td>\n",
              "      <td>f1</td>\n",
              "      <td>0.175148</td>\n",
              "    </tr>\n",
              "    <tr>\n",
              "      <th>17</th>\n",
              "      <td>Naive Bayes</td>\n",
              "      <td>f1</td>\n",
              "      <td>0.937470</td>\n",
              "    </tr>\n",
              "    <tr>\n",
              "      <th>18</th>\n",
              "      <td>Support Vector</td>\n",
              "      <td>f1</td>\n",
              "      <td>0.944680</td>\n",
              "    </tr>\n",
              "    <tr>\n",
              "      <th>19</th>\n",
              "      <td>Random Forest</td>\n",
              "      <td>f1</td>\n",
              "      <td>0.918130</td>\n",
              "    </tr>\n",
              "  </tbody>\n",
              "</table>\n",
              "</div>\n",
              "    <div class=\"colab-df-buttons\">\n",
              "\n",
              "  <div class=\"colab-df-container\">\n",
              "    <button class=\"colab-df-convert\" onclick=\"convertToInteractive('df-eff7bc24-282e-484f-8cfc-b3c3c0795746')\"\n",
              "            title=\"Convert this dataframe to an interactive table.\"\n",
              "            style=\"display:none;\">\n",
              "\n",
              "  <svg xmlns=\"http://www.w3.org/2000/svg\" height=\"24px\" viewBox=\"0 -960 960 960\">\n",
              "    <path d=\"M120-120v-720h720v720H120Zm60-500h600v-160H180v160Zm220 220h160v-160H400v160Zm0 220h160v-160H400v160ZM180-400h160v-160H180v160Zm440 0h160v-160H620v160ZM180-180h160v-160H180v160Zm440 0h160v-160H620v160Z\"/>\n",
              "  </svg>\n",
              "    </button>\n",
              "\n",
              "  <style>\n",
              "    .colab-df-container {\n",
              "      display:flex;\n",
              "      gap: 12px;\n",
              "    }\n",
              "\n",
              "    .colab-df-convert {\n",
              "      background-color: #E8F0FE;\n",
              "      border: none;\n",
              "      border-radius: 50%;\n",
              "      cursor: pointer;\n",
              "      display: none;\n",
              "      fill: #1967D2;\n",
              "      height: 32px;\n",
              "      padding: 0 0 0 0;\n",
              "      width: 32px;\n",
              "    }\n",
              "\n",
              "    .colab-df-convert:hover {\n",
              "      background-color: #E2EBFA;\n",
              "      box-shadow: 0px 1px 2px rgba(60, 64, 67, 0.3), 0px 1px 3px 1px rgba(60, 64, 67, 0.15);\n",
              "      fill: #174EA6;\n",
              "    }\n",
              "\n",
              "    .colab-df-buttons div {\n",
              "      margin-bottom: 4px;\n",
              "    }\n",
              "\n",
              "    [theme=dark] .colab-df-convert {\n",
              "      background-color: #3B4455;\n",
              "      fill: #D2E3FC;\n",
              "    }\n",
              "\n",
              "    [theme=dark] .colab-df-convert:hover {\n",
              "      background-color: #434B5C;\n",
              "      box-shadow: 0px 1px 3px 1px rgba(0, 0, 0, 0.15);\n",
              "      filter: drop-shadow(0px 1px 2px rgba(0, 0, 0, 0.3));\n",
              "      fill: #FFFFFF;\n",
              "    }\n",
              "  </style>\n",
              "\n",
              "    <script>\n",
              "      const buttonEl =\n",
              "        document.querySelector('#df-eff7bc24-282e-484f-8cfc-b3c3c0795746 button.colab-df-convert');\n",
              "      buttonEl.style.display =\n",
              "        google.colab.kernel.accessAllowed ? 'block' : 'none';\n",
              "\n",
              "      async function convertToInteractive(key) {\n",
              "        const element = document.querySelector('#df-eff7bc24-282e-484f-8cfc-b3c3c0795746');\n",
              "        const dataTable =\n",
              "          await google.colab.kernel.invokeFunction('convertToInteractive',\n",
              "                                                    [key], {});\n",
              "        if (!dataTable) return;\n",
              "\n",
              "        const docLinkHtml = 'Like what you see? Visit the ' +\n",
              "          '<a target=\"_blank\" href=https://colab.research.google.com/notebooks/data_table.ipynb>data table notebook</a>'\n",
              "          + ' to learn more about interactive tables.';\n",
              "        element.innerHTML = '';\n",
              "        dataTable['output_type'] = 'display_data';\n",
              "        await google.colab.output.renderOutput(dataTable, element);\n",
              "        const docLink = document.createElement('div');\n",
              "        docLink.innerHTML = docLinkHtml;\n",
              "        element.appendChild(docLink);\n",
              "      }\n",
              "    </script>\n",
              "  </div>\n",
              "\n",
              "\n",
              "<div id=\"df-78ce5ef8-c7ba-428d-ba34-2531a044bd65\">\n",
              "  <button class=\"colab-df-quickchart\" onclick=\"quickchart('df-78ce5ef8-c7ba-428d-ba34-2531a044bd65')\"\n",
              "            title=\"Suggest charts\"\n",
              "            style=\"display:none;\">\n",
              "\n",
              "<svg xmlns=\"http://www.w3.org/2000/svg\" height=\"24px\"viewBox=\"0 0 24 24\"\n",
              "     width=\"24px\">\n",
              "    <g>\n",
              "        <path d=\"M19 3H5c-1.1 0-2 .9-2 2v14c0 1.1.9 2 2 2h14c1.1 0 2-.9 2-2V5c0-1.1-.9-2-2-2zM9 17H7v-7h2v7zm4 0h-2V7h2v10zm4 0h-2v-4h2v4z\"/>\n",
              "    </g>\n",
              "</svg>\n",
              "  </button>\n",
              "\n",
              "<style>\n",
              "  .colab-df-quickchart {\n",
              "      --bg-color: #E8F0FE;\n",
              "      --fill-color: #1967D2;\n",
              "      --hover-bg-color: #E2EBFA;\n",
              "      --hover-fill-color: #174EA6;\n",
              "      --disabled-fill-color: #AAA;\n",
              "      --disabled-bg-color: #DDD;\n",
              "  }\n",
              "\n",
              "  [theme=dark] .colab-df-quickchart {\n",
              "      --bg-color: #3B4455;\n",
              "      --fill-color: #D2E3FC;\n",
              "      --hover-bg-color: #434B5C;\n",
              "      --hover-fill-color: #FFFFFF;\n",
              "      --disabled-bg-color: #3B4455;\n",
              "      --disabled-fill-color: #666;\n",
              "  }\n",
              "\n",
              "  .colab-df-quickchart {\n",
              "    background-color: var(--bg-color);\n",
              "    border: none;\n",
              "    border-radius: 50%;\n",
              "    cursor: pointer;\n",
              "    display: none;\n",
              "    fill: var(--fill-color);\n",
              "    height: 32px;\n",
              "    padding: 0;\n",
              "    width: 32px;\n",
              "  }\n",
              "\n",
              "  .colab-df-quickchart:hover {\n",
              "    background-color: var(--hover-bg-color);\n",
              "    box-shadow: 0 1px 2px rgba(60, 64, 67, 0.3), 0 1px 3px 1px rgba(60, 64, 67, 0.15);\n",
              "    fill: var(--button-hover-fill-color);\n",
              "  }\n",
              "\n",
              "  .colab-df-quickchart-complete:disabled,\n",
              "  .colab-df-quickchart-complete:disabled:hover {\n",
              "    background-color: var(--disabled-bg-color);\n",
              "    fill: var(--disabled-fill-color);\n",
              "    box-shadow: none;\n",
              "  }\n",
              "\n",
              "  .colab-df-spinner {\n",
              "    border: 2px solid var(--fill-color);\n",
              "    border-color: transparent;\n",
              "    border-bottom-color: var(--fill-color);\n",
              "    animation:\n",
              "      spin 1s steps(1) infinite;\n",
              "  }\n",
              "\n",
              "  @keyframes spin {\n",
              "    0% {\n",
              "      border-color: transparent;\n",
              "      border-bottom-color: var(--fill-color);\n",
              "      border-left-color: var(--fill-color);\n",
              "    }\n",
              "    20% {\n",
              "      border-color: transparent;\n",
              "      border-left-color: var(--fill-color);\n",
              "      border-top-color: var(--fill-color);\n",
              "    }\n",
              "    30% {\n",
              "      border-color: transparent;\n",
              "      border-left-color: var(--fill-color);\n",
              "      border-top-color: var(--fill-color);\n",
              "      border-right-color: var(--fill-color);\n",
              "    }\n",
              "    40% {\n",
              "      border-color: transparent;\n",
              "      border-right-color: var(--fill-color);\n",
              "      border-top-color: var(--fill-color);\n",
              "    }\n",
              "    60% {\n",
              "      border-color: transparent;\n",
              "      border-right-color: var(--fill-color);\n",
              "    }\n",
              "    80% {\n",
              "      border-color: transparent;\n",
              "      border-right-color: var(--fill-color);\n",
              "      border-bottom-color: var(--fill-color);\n",
              "    }\n",
              "    90% {\n",
              "      border-color: transparent;\n",
              "      border-bottom-color: var(--fill-color);\n",
              "    }\n",
              "  }\n",
              "</style>\n",
              "\n",
              "  <script>\n",
              "    async function quickchart(key) {\n",
              "      const quickchartButtonEl =\n",
              "        document.querySelector('#' + key + ' button');\n",
              "      quickchartButtonEl.disabled = true;  // To prevent multiple clicks.\n",
              "      quickchartButtonEl.classList.add('colab-df-spinner');\n",
              "      try {\n",
              "        const charts = await google.colab.kernel.invokeFunction(\n",
              "            'suggestCharts', [key], {});\n",
              "      } catch (error) {\n",
              "        console.error('Error during call to suggestCharts:', error);\n",
              "      }\n",
              "      quickchartButtonEl.classList.remove('colab-df-spinner');\n",
              "      quickchartButtonEl.classList.add('colab-df-quickchart-complete');\n",
              "    }\n",
              "    (() => {\n",
              "      let quickchartButtonEl =\n",
              "        document.querySelector('#df-78ce5ef8-c7ba-428d-ba34-2531a044bd65 button');\n",
              "      quickchartButtonEl.style.display =\n",
              "        google.colab.kernel.accessAllowed ? 'block' : 'none';\n",
              "    })();\n",
              "  </script>\n",
              "</div>\n",
              "\n",
              "  <div id=\"id_eedfc263-dd83-48e3-861f-0d2d393b267e\">\n",
              "    <style>\n",
              "      .colab-df-generate {\n",
              "        background-color: #E8F0FE;\n",
              "        border: none;\n",
              "        border-radius: 50%;\n",
              "        cursor: pointer;\n",
              "        display: none;\n",
              "        fill: #1967D2;\n",
              "        height: 32px;\n",
              "        padding: 0 0 0 0;\n",
              "        width: 32px;\n",
              "      }\n",
              "\n",
              "      .colab-df-generate:hover {\n",
              "        background-color: #E2EBFA;\n",
              "        box-shadow: 0px 1px 2px rgba(60, 64, 67, 0.3), 0px 1px 3px 1px rgba(60, 64, 67, 0.15);\n",
              "        fill: #174EA6;\n",
              "      }\n",
              "\n",
              "      [theme=dark] .colab-df-generate {\n",
              "        background-color: #3B4455;\n",
              "        fill: #D2E3FC;\n",
              "      }\n",
              "\n",
              "      [theme=dark] .colab-df-generate:hover {\n",
              "        background-color: #434B5C;\n",
              "        box-shadow: 0px 1px 3px 1px rgba(0, 0, 0, 0.15);\n",
              "        filter: drop-shadow(0px 1px 2px rgba(0, 0, 0, 0.3));\n",
              "        fill: #FFFFFF;\n",
              "      }\n",
              "    </style>\n",
              "    <button class=\"colab-df-generate\" onclick=\"generateWithVariable('score_means_df')\"\n",
              "            title=\"Generate code using this dataframe.\"\n",
              "            style=\"display:none;\">\n",
              "\n",
              "  <svg xmlns=\"http://www.w3.org/2000/svg\" height=\"24px\"viewBox=\"0 0 24 24\"\n",
              "       width=\"24px\">\n",
              "    <path d=\"M7,19H8.4L18.45,9,17,7.55,7,17.6ZM5,21V16.75L18.45,3.32a2,2,0,0,1,2.83,0l1.4,1.43a1.91,1.91,0,0,1,.58,1.4,1.91,1.91,0,0,1-.58,1.4L9.25,21ZM18.45,9,17,7.55Zm-12,3A5.31,5.31,0,0,0,4.9,8.1,5.31,5.31,0,0,0,1,6.5,5.31,5.31,0,0,0,4.9,4.9,5.31,5.31,0,0,0,6.5,1,5.31,5.31,0,0,0,8.1,4.9,5.31,5.31,0,0,0,12,6.5,5.46,5.46,0,0,0,6.5,12Z\"/>\n",
              "  </svg>\n",
              "    </button>\n",
              "    <script>\n",
              "      (() => {\n",
              "      const buttonEl =\n",
              "        document.querySelector('#id_eedfc263-dd83-48e3-861f-0d2d393b267e button.colab-df-generate');\n",
              "      buttonEl.style.display =\n",
              "        google.colab.kernel.accessAllowed ? 'block' : 'none';\n",
              "\n",
              "      buttonEl.onclick = () => {\n",
              "        google.colab.notebook.generateWithVariable('score_means_df');\n",
              "      }\n",
              "      })();\n",
              "    </script>\n",
              "  </div>\n",
              "\n",
              "    </div>\n",
              "  </div>\n"
            ],
            "application/vnd.google.colaboratory.intrinsic+json": {
              "type": "dataframe",
              "variable_name": "score_means_df",
              "summary": "{\n  \"name\": \"score_means_df\",\n  \"rows\": 20,\n  \"fields\": [\n    {\n      \"column\": \"Model\",\n      \"properties\": {\n        \"dtype\": \"category\",\n        \"num_unique_values\": 5,\n        \"samples\": [\n          \"K Means\",\n          \"Random Forest\",\n          \"Naive Bayes\"\n        ],\n        \"semantic_type\": \"\",\n        \"description\": \"\"\n      }\n    },\n    {\n      \"column\": \"Metric\",\n      \"properties\": {\n        \"dtype\": \"category\",\n        \"num_unique_values\": 4,\n        \"samples\": [\n          \"precision\",\n          \"f1\",\n          \"accuracy\"\n        ],\n        \"semantic_type\": \"\",\n        \"description\": \"\"\n      }\n    },\n    {\n      \"column\": \"Score\",\n      \"properties\": {\n        \"dtype\": \"number\",\n        \"std\": 0.2754438207873786,\n        \"min\": 0.11125389230652387,\n        \"max\": 0.993103448275862,\n        \"num_unique_values\": 20,\n        \"samples\": [\n          0.9590547263681591,\n          0.9374702052840247,\n          0.876801002992001\n        ],\n        \"semantic_type\": \"\",\n        \"description\": \"\"\n      }\n    }\n  ]\n}"
            }
          },
          "metadata": {},
          "execution_count": 118
        }
      ]
    },
    {
      "cell_type": "code",
      "source": [
        "score_means_df"
      ],
      "metadata": {
        "id": "kbYM1gidMGd3"
      },
      "execution_count": null,
      "outputs": []
    },
    {
      "cell_type": "markdown",
      "metadata": {
        "id": "-_VLNGBP6qi5"
      },
      "source": [
        "## Model Comparison"
      ]
    },
    {
      "cell_type": "code",
      "source": [
        "N = 5\n",
        "ind = np.arange(N)\n",
        "width = 0.15\n",
        "\n",
        "# Extract data as lists for plotting\n",
        "accuracy_scores = score_means_df[score_means_df[\"Metric\"] == \"accuracy\"][\"Score\"].tolist()\n",
        "precision_scores = score_means_df[score_means_df[\"Metric\"] == \"precision\"][\"Score\"].tolist()\n",
        "recall_scores = score_means_df[score_means_df[\"Metric\"] == \"recall\"][\"Score\"].tolist()\n",
        "f1_scores = score_means_df[score_means_df[\"Metric\"] == \"f1\"][\"Score\"].tolist()\n",
        "\n",
        "plt.figure(figsize=(10, 5))\n",
        "\n",
        "bar1 = plt.bar(ind, accuracy_scores, width, color='r')\n",
        "bar2 = plt.bar([i + width for i in ind], precision_scores, width, color='orange')  # Adjust positions for bars\n",
        "bar3 = plt.bar([i + 2 * width for i in ind], recall_scores, width, color='g')\n",
        "bar4 = plt.bar([i + 3 * width for i in ind], f1_scores, width, color='b')\n",
        "\n",
        "# Add labels and title\n",
        "plt.xlabel(\"Models\")\n",
        "plt.ylabel('Scores')\n",
        "plt.title(\"Metric Scores by Model\")\n",
        "\n",
        "plt.xticks(ind+width, score_means_df[\"Model\"].unique())\n",
        "# Display legend separately\n",
        "plt.legend((bar1, bar2, bar3, bar4), (\"Accuracy\", \"Precision\", \"Recall\", \"F1\"), bbox_to_anchor=(1.05, 1), loc='upper left')\n",
        "plt.show()"
      ],
      "metadata": {
        "colab": {
          "base_uri": "https://localhost:8080/",
          "height": 487
        },
        "id": "F2CPmJ9w5b4L",
        "outputId": "0f17cab8-66e0-406e-936c-0a62738eac9e"
      },
      "execution_count": 117,
      "outputs": [
        {
          "output_type": "display_data",
          "data": {
            "text/plain": [
              "<Figure size 1000x500 with 1 Axes>"
            ],
            "image/png": "[encoded data removed]"
          },
          "metadata": {}
        }
      ]
    },
    {
      "cell_type": "code",
      "source": [],
      "metadata": {
        "id": "RjfNJySE7mI2"
      },
      "execution_count": null,
      "outputs": []
    }
  ],
  "metadata": {
    "colab": {
      "collapsed_sections": [
        "KIzPua5nAUIv",
        "6amS9QrQIQve",
        "sPa28KH6Ia0Y",
        "oRW77qBz7Brt",
        "tQLf6Q3o7rfD",
        "CL7wSq8JN2T4",
        "zBXDsUprSqsM",
        "GqzZbrh8SG4T",
        "0xq4Y-QldsGY",
        "oLXWv4XGSUnA",
        "bORLm9C2U5lb",
        "5T0CNwDcTF6Y",
        "TcOr66nkTJHZ",
        "iU4tR4idSlsY",
        "GQo168KQGHbb",
        "HsQDg0T9MKIt",
        "g4aT_lrLGNek",
        "3JjcRu1UXHQO",
        "Rf6ccobjAk4B",
        "KkpeGarcenzf",
        "q6o2x9Xayhth",
        "_R0znZAm4qnu",
        "X92LYNuO4tl5"
      ],
      "provenance": [],
      "authorship_tag": "ABX9TyNujtioEgdp+x8y/iUrjhbD",
      "include_colab_link": true
    },
    "kernelspec": {
      "display_name": "Python 3",
      "name": "python3"
    },
    "language_info": {
      "name": "python"
    }
  },
  "nbformat": 4,
  "nbformat_minor": 0
}